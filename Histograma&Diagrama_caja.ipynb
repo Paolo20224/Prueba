{
  "nbformat": 4,
  "nbformat_minor": 0,
  "metadata": {
    "colab": {
      "name": "Histograma&Diagrama_caja.ipynb",
      "provenance": [],
      "authorship_tag": "ABX9TyNkOjY3VnnTrBq5UXn4Q9aY",
      "include_colab_link": true
    },
    "kernelspec": {
      "name": "python3",
      "display_name": "Python 3"
    },
    "language_info": {
      "name": "python"
    }
  },
  "cells": [
    {
      "cell_type": "markdown",
      "metadata": {
        "id": "view-in-github",
        "colab_type": "text"
      },
      "source": [
        "<a href=\"https://colab.research.google.com/github/Paolo20224/Prueba/blob/main/Histograma%26Diagrama_caja.ipynb\" target=\"_parent\"><img src=\"https://colab.research.google.com/assets/colab-badge.svg\" alt=\"Open In Colab\"/></a>"
      ]
    },
    {
      "cell_type": "code",
      "execution_count": 33,
      "metadata": {
        "id": "0hRI80OKGhCa"
      },
      "outputs": [],
      "source": [
        "#Como parte inicial, descargamos la informacion y la cargamos en nuestro cuader en Colab\n",
        "import pandas as pd\n",
        "filename = \"/content/catsvdogs.xlsx\"\n",
        "df = pd.read_excel(filename)"
      ]
    },
    {
      "cell_type": "markdown",
      "source": [
        "1.Analisis y Depuracion de Datos"
      ],
      "metadata": {
        "id": "GB_QCoB9HvFH"
      }
    },
    {
      "cell_type": "code",
      "source": [
        "# A continuacion revisaremos la categoria de cada dato, asi como tambien su integridad (verificacion de nulos)\n",
        "df.info()"
      ],
      "metadata": {
        "colab": {
          "base_uri": "https://localhost:8080/"
        },
        "id": "OF8ejkPeHwH2",
        "outputId": "6d88abd4-0fe6-4bd2-d336-d7ee528f81fc"
      },
      "execution_count": 34,
      "outputs": [
        {
          "output_type": "stream",
          "name": "stdout",
          "text": [
            "<class 'pandas.core.frame.DataFrame'>\n",
            "RangeIndex: 49 entries, 0 to 48\n",
            "Data columns (total 12 columns):\n",
            " #   Column                              Non-Null Count  Dtype  \n",
            "---  ------                              --------------  -----  \n",
            " 0   Location                            49 non-null     object \n",
            " 1   Number of Households (in 1000)      49 non-null     int64  \n",
            " 2   Percentage of households with pets  49 non-null     float64\n",
            " 3   Number of Pet Households (in 1000)  49 non-null     int64  \n",
            " 4   Percentage of Dog Owners            49 non-null     float64\n",
            " 5   Dog Owning Households (1000s)       49 non-null     int64  \n",
            " 6   Mean Number of Dogs per household   49 non-null     float64\n",
            " 7   Dog Population (in 1000)            49 non-null     int64  \n",
            " 8   Percentage of Cat Owners            49 non-null     float64\n",
            " 9   Cat Owning Households               49 non-null     int64  \n",
            " 10  Mean Number of Cats                 49 non-null     float64\n",
            " 11  Cat Population                      49 non-null     int64  \n",
            "dtypes: float64(5), int64(6), object(1)\n",
            "memory usage: 4.7+ KB\n"
          ]
        }
      ]
    },
    {
      "cell_type": "code",
      "source": [
        "df.describe()"
      ],
      "metadata": {
        "colab": {
          "base_uri": "https://localhost:8080/",
          "height": 379
        },
        "id": "AnbYDEcHIQKB",
        "outputId": "b02c7ae8-5b0a-4faf-c651-1898bd7d7151"
      },
      "execution_count": 35,
      "outputs": [
        {
          "output_type": "execute_result",
          "data": {
            "text/plain": [
              "       Number of Households (in 1000)  Percentage of households with pets  \\\n",
              "count                       49.000000                           49.000000   \n",
              "mean                      2403.897959                           56.859184   \n",
              "std                       2514.054786                            6.931688   \n",
              "min                        221.000000                           21.900000   \n",
              "25%                        765.000000                           53.600000   \n",
              "50%                       1759.000000                           56.800000   \n",
              "75%                       2632.000000                           61.300000   \n",
              "max                      12974.000000                           70.800000   \n",
              "\n",
              "       Number of Pet Households (in 1000)  Percentage of Dog Owners  \\\n",
              "count                           49.000000                 49.000000   \n",
              "mean                          1342.591837                 36.973469   \n",
              "std                           1358.247246                  6.671169   \n",
              "min                             63.000000                 13.100000   \n",
              "25%                            475.000000                 32.900000   \n",
              "50%                            957.000000                 36.600000   \n",
              "75%                           1611.000000                 42.500000   \n",
              "max                           6865.000000                 47.900000   \n",
              "\n",
              "       Dog Owning Households (1000s)  Mean Number of Dogs per household  \\\n",
              "count                      49.000000                          49.000000   \n",
              "mean                      876.367347                           1.587755   \n",
              "std                       891.828475                           0.202724   \n",
              "min                        38.000000                           1.100000   \n",
              "25%                       273.000000                           1.400000   \n",
              "50%                       638.000000                           1.600000   \n",
              "75%                      1069.000000                           1.700000   \n",
              "max                      4260.000000                           2.100000   \n",
              "\n",
              "       Dog Population (in 1000)  Percentage of Cat Owners  \\\n",
              "count                 49.000000                 49.000000   \n",
              "mean                1414.163265                 31.642857   \n",
              "std                 1464.658882                  5.683162   \n",
              "min                   42.000000                 11.600000   \n",
              "25%                  410.000000                 29.000000   \n",
              "50%                 1097.000000                 31.300000   \n",
              "75%                 1798.000000                 33.800000   \n",
              "max                 7163.000000                 49.500000   \n",
              "\n",
              "       Cat Owning Households  Mean Number of Cats  Cat Population  \n",
              "count              49.000000            49.000000       49.000000  \n",
              "mean              728.061224             2.040816     1492.795918  \n",
              "std               717.293362             0.191397     1459.857969  \n",
              "min                33.000000             1.700000       63.000000  \n",
              "25%               247.000000             1.900000      514.000000  \n",
              "50%               501.000000             2.000000     1185.000000  \n",
              "75%               876.000000             2.200000     1844.000000  \n",
              "max              3687.000000             2.600000     7118.000000  "
            ],
            "text/html": [
              "\n",
              "  <div id=\"df-212920a7-a609-45b7-96dd-5266cfcda0a8\">\n",
              "    <div class=\"colab-df-container\">\n",
              "      <div>\n",
              "<style scoped>\n",
              "    .dataframe tbody tr th:only-of-type {\n",
              "        vertical-align: middle;\n",
              "    }\n",
              "\n",
              "    .dataframe tbody tr th {\n",
              "        vertical-align: top;\n",
              "    }\n",
              "\n",
              "    .dataframe thead th {\n",
              "        text-align: right;\n",
              "    }\n",
              "</style>\n",
              "<table border=\"1\" class=\"dataframe\">\n",
              "  <thead>\n",
              "    <tr style=\"text-align: right;\">\n",
              "      <th></th>\n",
              "      <th>Number of Households (in 1000)</th>\n",
              "      <th>Percentage of households with pets</th>\n",
              "      <th>Number of Pet Households (in 1000)</th>\n",
              "      <th>Percentage of Dog Owners</th>\n",
              "      <th>Dog Owning Households (1000s)</th>\n",
              "      <th>Mean Number of Dogs per household</th>\n",
              "      <th>Dog Population (in 1000)</th>\n",
              "      <th>Percentage of Cat Owners</th>\n",
              "      <th>Cat Owning Households</th>\n",
              "      <th>Mean Number of Cats</th>\n",
              "      <th>Cat Population</th>\n",
              "    </tr>\n",
              "  </thead>\n",
              "  <tbody>\n",
              "    <tr>\n",
              "      <th>count</th>\n",
              "      <td>49.000000</td>\n",
              "      <td>49.000000</td>\n",
              "      <td>49.000000</td>\n",
              "      <td>49.000000</td>\n",
              "      <td>49.000000</td>\n",
              "      <td>49.000000</td>\n",
              "      <td>49.000000</td>\n",
              "      <td>49.000000</td>\n",
              "      <td>49.000000</td>\n",
              "      <td>49.000000</td>\n",
              "      <td>49.000000</td>\n",
              "    </tr>\n",
              "    <tr>\n",
              "      <th>mean</th>\n",
              "      <td>2403.897959</td>\n",
              "      <td>56.859184</td>\n",
              "      <td>1342.591837</td>\n",
              "      <td>36.973469</td>\n",
              "      <td>876.367347</td>\n",
              "      <td>1.587755</td>\n",
              "      <td>1414.163265</td>\n",
              "      <td>31.642857</td>\n",
              "      <td>728.061224</td>\n",
              "      <td>2.040816</td>\n",
              "      <td>1492.795918</td>\n",
              "    </tr>\n",
              "    <tr>\n",
              "      <th>std</th>\n",
              "      <td>2514.054786</td>\n",
              "      <td>6.931688</td>\n",
              "      <td>1358.247246</td>\n",
              "      <td>6.671169</td>\n",
              "      <td>891.828475</td>\n",
              "      <td>0.202724</td>\n",
              "      <td>1464.658882</td>\n",
              "      <td>5.683162</td>\n",
              "      <td>717.293362</td>\n",
              "      <td>0.191397</td>\n",
              "      <td>1459.857969</td>\n",
              "    </tr>\n",
              "    <tr>\n",
              "      <th>min</th>\n",
              "      <td>221.000000</td>\n",
              "      <td>21.900000</td>\n",
              "      <td>63.000000</td>\n",
              "      <td>13.100000</td>\n",
              "      <td>38.000000</td>\n",
              "      <td>1.100000</td>\n",
              "      <td>42.000000</td>\n",
              "      <td>11.600000</td>\n",
              "      <td>33.000000</td>\n",
              "      <td>1.700000</td>\n",
              "      <td>63.000000</td>\n",
              "    </tr>\n",
              "    <tr>\n",
              "      <th>25%</th>\n",
              "      <td>765.000000</td>\n",
              "      <td>53.600000</td>\n",
              "      <td>475.000000</td>\n",
              "      <td>32.900000</td>\n",
              "      <td>273.000000</td>\n",
              "      <td>1.400000</td>\n",
              "      <td>410.000000</td>\n",
              "      <td>29.000000</td>\n",
              "      <td>247.000000</td>\n",
              "      <td>1.900000</td>\n",
              "      <td>514.000000</td>\n",
              "    </tr>\n",
              "    <tr>\n",
              "      <th>50%</th>\n",
              "      <td>1759.000000</td>\n",
              "      <td>56.800000</td>\n",
              "      <td>957.000000</td>\n",
              "      <td>36.600000</td>\n",
              "      <td>638.000000</td>\n",
              "      <td>1.600000</td>\n",
              "      <td>1097.000000</td>\n",
              "      <td>31.300000</td>\n",
              "      <td>501.000000</td>\n",
              "      <td>2.000000</td>\n",
              "      <td>1185.000000</td>\n",
              "    </tr>\n",
              "    <tr>\n",
              "      <th>75%</th>\n",
              "      <td>2632.000000</td>\n",
              "      <td>61.300000</td>\n",
              "      <td>1611.000000</td>\n",
              "      <td>42.500000</td>\n",
              "      <td>1069.000000</td>\n",
              "      <td>1.700000</td>\n",
              "      <td>1798.000000</td>\n",
              "      <td>33.800000</td>\n",
              "      <td>876.000000</td>\n",
              "      <td>2.200000</td>\n",
              "      <td>1844.000000</td>\n",
              "    </tr>\n",
              "    <tr>\n",
              "      <th>max</th>\n",
              "      <td>12974.000000</td>\n",
              "      <td>70.800000</td>\n",
              "      <td>6865.000000</td>\n",
              "      <td>47.900000</td>\n",
              "      <td>4260.000000</td>\n",
              "      <td>2.100000</td>\n",
              "      <td>7163.000000</td>\n",
              "      <td>49.500000</td>\n",
              "      <td>3687.000000</td>\n",
              "      <td>2.600000</td>\n",
              "      <td>7118.000000</td>\n",
              "    </tr>\n",
              "  </tbody>\n",
              "</table>\n",
              "</div>\n",
              "      <button class=\"colab-df-convert\" onclick=\"convertToInteractive('df-212920a7-a609-45b7-96dd-5266cfcda0a8')\"\n",
              "              title=\"Convert this dataframe to an interactive table.\"\n",
              "              style=\"display:none;\">\n",
              "        \n",
              "  <svg xmlns=\"http://www.w3.org/2000/svg\" height=\"24px\"viewBox=\"0 0 24 24\"\n",
              "       width=\"24px\">\n",
              "    <path d=\"M0 0h24v24H0V0z\" fill=\"none\"/>\n",
              "    <path d=\"M18.56 5.44l.94 2.06.94-2.06 2.06-.94-2.06-.94-.94-2.06-.94 2.06-2.06.94zm-11 1L8.5 8.5l.94-2.06 2.06-.94-2.06-.94L8.5 2.5l-.94 2.06-2.06.94zm10 10l.94 2.06.94-2.06 2.06-.94-2.06-.94-.94-2.06-.94 2.06-2.06.94z\"/><path d=\"M17.41 7.96l-1.37-1.37c-.4-.4-.92-.59-1.43-.59-.52 0-1.04.2-1.43.59L10.3 9.45l-7.72 7.72c-.78.78-.78 2.05 0 2.83L4 21.41c.39.39.9.59 1.41.59.51 0 1.02-.2 1.41-.59l7.78-7.78 2.81-2.81c.8-.78.8-2.07 0-2.86zM5.41 20L4 18.59l7.72-7.72 1.47 1.35L5.41 20z\"/>\n",
              "  </svg>\n",
              "      </button>\n",
              "      \n",
              "  <style>\n",
              "    .colab-df-container {\n",
              "      display:flex;\n",
              "      flex-wrap:wrap;\n",
              "      gap: 12px;\n",
              "    }\n",
              "\n",
              "    .colab-df-convert {\n",
              "      background-color: #E8F0FE;\n",
              "      border: none;\n",
              "      border-radius: 50%;\n",
              "      cursor: pointer;\n",
              "      display: none;\n",
              "      fill: #1967D2;\n",
              "      height: 32px;\n",
              "      padding: 0 0 0 0;\n",
              "      width: 32px;\n",
              "    }\n",
              "\n",
              "    .colab-df-convert:hover {\n",
              "      background-color: #E2EBFA;\n",
              "      box-shadow: 0px 1px 2px rgba(60, 64, 67, 0.3), 0px 1px 3px 1px rgba(60, 64, 67, 0.15);\n",
              "      fill: #174EA6;\n",
              "    }\n",
              "\n",
              "    [theme=dark] .colab-df-convert {\n",
              "      background-color: #3B4455;\n",
              "      fill: #D2E3FC;\n",
              "    }\n",
              "\n",
              "    [theme=dark] .colab-df-convert:hover {\n",
              "      background-color: #434B5C;\n",
              "      box-shadow: 0px 1px 3px 1px rgba(0, 0, 0, 0.15);\n",
              "      filter: drop-shadow(0px 1px 2px rgba(0, 0, 0, 0.3));\n",
              "      fill: #FFFFFF;\n",
              "    }\n",
              "  </style>\n",
              "\n",
              "      <script>\n",
              "        const buttonEl =\n",
              "          document.querySelector('#df-212920a7-a609-45b7-96dd-5266cfcda0a8 button.colab-df-convert');\n",
              "        buttonEl.style.display =\n",
              "          google.colab.kernel.accessAllowed ? 'block' : 'none';\n",
              "\n",
              "        async function convertToInteractive(key) {\n",
              "          const element = document.querySelector('#df-212920a7-a609-45b7-96dd-5266cfcda0a8');\n",
              "          const dataTable =\n",
              "            await google.colab.kernel.invokeFunction('convertToInteractive',\n",
              "                                                     [key], {});\n",
              "          if (!dataTable) return;\n",
              "\n",
              "          const docLinkHtml = 'Like what you see? Visit the ' +\n",
              "            '<a target=\"_blank\" href=https://colab.research.google.com/notebooks/data_table.ipynb>data table notebook</a>'\n",
              "            + ' to learn more about interactive tables.';\n",
              "          element.innerHTML = '';\n",
              "          dataTable['output_type'] = 'display_data';\n",
              "          await google.colab.output.renderOutput(dataTable, element);\n",
              "          const docLink = document.createElement('div');\n",
              "          docLink.innerHTML = docLinkHtml;\n",
              "          element.appendChild(docLink);\n",
              "        }\n",
              "      </script>\n",
              "    </div>\n",
              "  </div>\n",
              "  "
            ]
          },
          "metadata": {},
          "execution_count": 35
        }
      ]
    },
    {
      "cell_type": "markdown",
      "source": [
        "1. Traza un histograma del porcentaje de poseedores de perros."
      ],
      "metadata": {
        "id": "iJahrimHIrjY"
      }
    },
    {
      "cell_type": "code",
      "source": [
        "df2=df\n",
        "import matplotlib.pyplot as plot\n",
        "\n",
        "fig = plot.figure(dpi=90)\n",
        "\n",
        "dog_owners = df2[\"Percentage of Dog Owners\"]\n",
        "\n",
        "intervalos = [5,10,15,20,25,30,35,40,45,50] #indicamos los extremos de los intervalos\n",
        "\n",
        "plot.hist(x=dog_owners, bins=intervalos, color='forestgreen', rwidth=0.9,)\n",
        "plot.title(\"Histograma sobre el promedio de Dueños de Perros\")\n",
        "plot.xlabel('Promedio')\n",
        "plot.ylabel('Frecuencia')\n",
        "plot.xticks(intervalos)\n",
        "\n",
        "plot.show()"
      ],
      "metadata": {
        "colab": {
          "base_uri": "https://localhost:8080/",
          "height": 366
        },
        "id": "9MOhKrLlIsxh",
        "outputId": "d08bfb87-ca51-4cc2-8ff8-4999721e5589"
      },
      "execution_count": 36,
      "outputs": [
        {
          "output_type": "display_data",
          "data": {
            "text/plain": [
              "<Figure size 540x360 with 1 Axes>"
            ],
            "image/png": "[encoded data removed]"
          },
          "metadata": {
            "needs_background": "light"
          }
        }
      ]
    },
    {
      "cell_type": "markdown",
      "source": [
        "2. Traza un histograma del porcentaje de poseedores de gatos."
      ],
      "metadata": {
        "id": "TFnLRlBXME29"
      }
    },
    {
      "cell_type": "code",
      "source": [
        "import matplotlib.pyplot as plot\n",
        "\n",
        "fig = plot.figure(dpi=90)\n",
        "\n",
        "cat_owners = df2[\"Percentage of Cat Owners\"]\n",
        "\n",
        "intervalos = [5,10,15,20,25,30,35,40,45,50] #indicamos los extremos de los intervalos\n",
        "\n",
        "plot.hist(x=cat_owners, bins=intervalos, color='indigo', rwidth=0.9,)\n",
        "plot.title(\"Histograma sobre el promedio de Dueños de Gatos\")\n",
        "plot.xlabel('Promedio')\n",
        "plot.ylabel('Frecuencia')\n",
        "plot.xticks(intervalos)\n",
        "\n",
        "plot.show()"
      ],
      "metadata": {
        "colab": {
          "base_uri": "https://localhost:8080/",
          "height": 366
        },
        "id": "QRxjxqvxMGJr",
        "outputId": "5d9fdabb-cdb9-4711-f75b-f853a1e6615b"
      },
      "execution_count": 37,
      "outputs": [
        {
          "output_type": "display_data",
          "data": {
            "text/plain": [
              "<Figure size 540x360 with 1 Axes>"
            ],
            "image/png": "[encoded data removed]"
          },
          "metadata": {
            "needs_background": "light"
          }
        }
      ]
    },
    {
      "cell_type": "markdown",
      "source": [
        "3a. ¿Qué podemos ver al comparar estos dos histogramas? ¿Qué información nos da?"
      ],
      "metadata": {
        "id": "DUwRJrWNNObQ"
      }
    },
    {
      "cell_type": "code",
      "source": [
        "import numpy as np\n",
        "import matplotlib.pyplot as plt\n",
        "\n",
        "fig = plot.figure(dpi=120)\n",
        "\n",
        "dog_owners = df2[\"Percentage of Dog Owners\"]\n",
        "cat_owners = df2[\"Percentage of Cat Owners\"]\n",
        "\n",
        "bins = [5,10,15,20,25,30,35,40,45,50]\n",
        "\n",
        "plt.hist(dog_owners, bins, alpha = 0.5, label='Dueños de Perros',color=\"forestgreen\")\n",
        "plt.hist(cat_owners, bins, alpha = 0.5, label='Dueños de Gatos',color=\"indigo\")\n",
        "plt.legend(loc='upper left')\n",
        "\n",
        "plt.show()"
      ],
      "metadata": {
        "colab": {
          "base_uri": "https://localhost:8080/",
          "height": 433
        },
        "id": "kwOQY-dRNW6O",
        "outputId": "596c4b4b-f869-4cc3-835e-76ea9a6128ce"
      },
      "execution_count": 41,
      "outputs": [
        {
          "output_type": "display_data",
          "data": {
            "text/plain": [
              "<Figure size 720x480 with 1 Axes>"
            ],
            "image/png": "[encoded data removed]"
          },
          "metadata": {
            "needs_background": "light"
          }
        }
      ]
    },
    {
      "cell_type": "markdown",
      "source": [
        "R: A partir del comparativo de ambos histogramas, podemos visualizar que en varios estados de USA la tendencia indica que los dueños de gastos se concentran en los % de tenencia promedio entre un 25% y 35%, por otra parte en el caso de los dueños de perros, se da que alrrededor de 12 a 13 estados tienen en promedio un % de tenencia de perros que va de un 30% a un 45%, y alrrededor de 6 estados poseen más de un 45% de tenencia de perros."
      ],
      "metadata": {
        "id": "J6931lA1O9re"
      }
    },
    {
      "cell_type": "markdown",
      "source": [
        "4. Crea dos diagramas de caja en el mismo plot: uno con el número medio de gatos por hogar y el otro, del número medio de perros."
      ],
      "metadata": {
        "id": "JLa7bZSqQnH8"
      }
    },
    {
      "cell_type": "code",
      "source": [
        "boxplot = df2.boxplot(column=['Mean Number of Dogs per household', 'Mean Number of Cats'])  \n"
      ],
      "metadata": {
        "colab": {
          "base_uri": "https://localhost:8080/",
          "height": 265
        },
        "id": "Dq9OSayLdOZ8",
        "outputId": "acfce18a-a922-41f5-b555-79a2f623e58e"
      },
      "execution_count": 86,
      "outputs": [
        {
          "output_type": "display_data",
          "data": {
            "text/plain": [
              "<Figure size 432x288 with 1 Axes>"
            ],
            "image/png": "[encoded data removed]"
          },
          "metadata": {
            "needs_background": "light"
          }
        }
      ]
    },
    {
      "cell_type": "markdown",
      "source": [
        "5. ¿Qué podemos ver al comparar estos dos diagramas de caja? ¿Qué información nos da?"
      ],
      "metadata": {
        "id": "8bwCqlCHdkDE"
      }
    },
    {
      "cell_type": "markdown",
      "source": [
        "R: El diagrama de caja nos permite ver que el promedio de dueños de gatos, se encuentra por encima de la de los dueños de perros.\n",
        "\n",
        "En relacion a la distribucion de los cuartiles, ambas estructuras presentan una distribucion relativamente homogenea, sin embargo existe una menor diferencia entre el 1er quartil (25) y el 2do quartil (50) para el promedio de gatos, mientras que el mismo el ejemplo para el promedio de perros, existe una mayor brecha entre cuartiles. "
      ],
      "metadata": {
        "id": "Vnz1WEUnd0iw"
      }
    }
  ]
}