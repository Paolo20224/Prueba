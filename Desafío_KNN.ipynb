{
  "nbformat": 4,
  "nbformat_minor": 0,
  "metadata": {
    "colab": {
      "provenance": [],
      "authorship_tag": "ABX9TyMJ98Tx8vbtTTQ7D/I7VRWR",
      "include_colab_link": true
    },
    "kernelspec": {
      "name": "python3",
      "display_name": "Python 3"
    },
    "language_info": {
      "name": "python"
    }
  },
  "cells": [
    {
      "cell_type": "markdown",
      "metadata": {
        "id": "view-in-github",
        "colab_type": "text"
      },
      "source": [
        "<a href=\"https://colab.research.google.com/github/Paolo20224/Prueba/blob/main/Desaf%C3%ADo_KNN.ipynb\" target=\"_parent\"><img src=\"https://colab.research.google.com/assets/colab-badge.svg\" alt=\"Open In Colab\"/></a>"
      ]
    },
    {
      "cell_type": "code",
      "execution_count": 48,
      "metadata": {
        "id": "RCEVfLSisk-L"
      },
      "outputs": [],
      "source": [
        "#Como parte inicial, descargamos la informacion y la cargamos en nuestro cuader en Colab\n",
        "import pandas as pd\n",
        "filename = \"/content/abalone.data\"\n",
        "df = pd.read_csv(filename)"
      ]
    },
    {
      "cell_type": "markdown",
      "source": [
        "1.Analisis y Depuracion de Datos"
      ],
      "metadata": {
        "id": "U3ctXj7mziCD"
      }
    },
    {
      "cell_type": "code",
      "source": [
        "#A continuacion revisaremos los primeros datos, donde vemos que no vienen incluidos los nombres de las columnas, y la primera fila son datos\n",
        "df.head(5)"
      ],
      "metadata": {
        "colab": {
          "base_uri": "https://localhost:8080/",
          "height": 206
        },
        "id": "zmJgkuJswRlJ",
        "outputId": "8f168e37-efc2-42bf-924f-8d5640e6d9b0"
      },
      "execution_count": 49,
      "outputs": [
        {
          "output_type": "execute_result",
          "data": {
            "text/plain": [
              "   M  0.455  0.365  0.095   0.514  0.2245   0.101   0.15  15\n",
              "0  M  0.350  0.265  0.090  0.2255  0.0995  0.0485  0.070   7\n",
              "1  F  0.530  0.420  0.135  0.6770  0.2565  0.1415  0.210   9\n",
              "2  M  0.440  0.365  0.125  0.5160  0.2155  0.1140  0.155  10\n",
              "3  I  0.330  0.255  0.080  0.2050  0.0895  0.0395  0.055   7\n",
              "4  I  0.425  0.300  0.095  0.3515  0.1410  0.0775  0.120   8"
            ],
            "text/html": [
              "\n",
              "  <div id=\"df-e87df656-3d8b-461b-928b-4bd935096a07\">\n",
              "    <div class=\"colab-df-container\">\n",
              "      <div>\n",
              "<style scoped>\n",
              "    .dataframe tbody tr th:only-of-type {\n",
              "        vertical-align: middle;\n",
              "    }\n",
              "\n",
              "    .dataframe tbody tr th {\n",
              "        vertical-align: top;\n",
              "    }\n",
              "\n",
              "    .dataframe thead th {\n",
              "        text-align: right;\n",
              "    }\n",
              "</style>\n",
              "<table border=\"1\" class=\"dataframe\">\n",
              "  <thead>\n",
              "    <tr style=\"text-align: right;\">\n",
              "      <th></th>\n",
              "      <th>M</th>\n",
              "      <th>0.455</th>\n",
              "      <th>0.365</th>\n",
              "      <th>0.095</th>\n",
              "      <th>0.514</th>\n",
              "      <th>0.2245</th>\n",
              "      <th>0.101</th>\n",
              "      <th>0.15</th>\n",
              "      <th>15</th>\n",
              "    </tr>\n",
              "  </thead>\n",
              "  <tbody>\n",
              "    <tr>\n",
              "      <th>0</th>\n",
              "      <td>M</td>\n",
              "      <td>0.350</td>\n",
              "      <td>0.265</td>\n",
              "      <td>0.090</td>\n",
              "      <td>0.2255</td>\n",
              "      <td>0.0995</td>\n",
              "      <td>0.0485</td>\n",
              "      <td>0.070</td>\n",
              "      <td>7</td>\n",
              "    </tr>\n",
              "    <tr>\n",
              "      <th>1</th>\n",
              "      <td>F</td>\n",
              "      <td>0.530</td>\n",
              "      <td>0.420</td>\n",
              "      <td>0.135</td>\n",
              "      <td>0.6770</td>\n",
              "      <td>0.2565</td>\n",
              "      <td>0.1415</td>\n",
              "      <td>0.210</td>\n",
              "      <td>9</td>\n",
              "    </tr>\n",
              "    <tr>\n",
              "      <th>2</th>\n",
              "      <td>M</td>\n",
              "      <td>0.440</td>\n",
              "      <td>0.365</td>\n",
              "      <td>0.125</td>\n",
              "      <td>0.5160</td>\n",
              "      <td>0.2155</td>\n",
              "      <td>0.1140</td>\n",
              "      <td>0.155</td>\n",
              "      <td>10</td>\n",
              "    </tr>\n",
              "    <tr>\n",
              "      <th>3</th>\n",
              "      <td>I</td>\n",
              "      <td>0.330</td>\n",
              "      <td>0.255</td>\n",
              "      <td>0.080</td>\n",
              "      <td>0.2050</td>\n",
              "      <td>0.0895</td>\n",
              "      <td>0.0395</td>\n",
              "      <td>0.055</td>\n",
              "      <td>7</td>\n",
              "    </tr>\n",
              "    <tr>\n",
              "      <th>4</th>\n",
              "      <td>I</td>\n",
              "      <td>0.425</td>\n",
              "      <td>0.300</td>\n",
              "      <td>0.095</td>\n",
              "      <td>0.3515</td>\n",
              "      <td>0.1410</td>\n",
              "      <td>0.0775</td>\n",
              "      <td>0.120</td>\n",
              "      <td>8</td>\n",
              "    </tr>\n",
              "  </tbody>\n",
              "</table>\n",
              "</div>\n",
              "      <button class=\"colab-df-convert\" onclick=\"convertToInteractive('df-e87df656-3d8b-461b-928b-4bd935096a07')\"\n",
              "              title=\"Convert this dataframe to an interactive table.\"\n",
              "              style=\"display:none;\">\n",
              "        \n",
              "  <svg xmlns=\"http://www.w3.org/2000/svg\" height=\"24px\"viewBox=\"0 0 24 24\"\n",
              "       width=\"24px\">\n",
              "    <path d=\"M0 0h24v24H0V0z\" fill=\"none\"/>\n",
              "    <path d=\"M18.56 5.44l.94 2.06.94-2.06 2.06-.94-2.06-.94-.94-2.06-.94 2.06-2.06.94zm-11 1L8.5 8.5l.94-2.06 2.06-.94-2.06-.94L8.5 2.5l-.94 2.06-2.06.94zm10 10l.94 2.06.94-2.06 2.06-.94-2.06-.94-.94-2.06-.94 2.06-2.06.94z\"/><path d=\"M17.41 7.96l-1.37-1.37c-.4-.4-.92-.59-1.43-.59-.52 0-1.04.2-1.43.59L10.3 9.45l-7.72 7.72c-.78.78-.78 2.05 0 2.83L4 21.41c.39.39.9.59 1.41.59.51 0 1.02-.2 1.41-.59l7.78-7.78 2.81-2.81c.8-.78.8-2.07 0-2.86zM5.41 20L4 18.59l7.72-7.72 1.47 1.35L5.41 20z\"/>\n",
              "  </svg>\n",
              "      </button>\n",
              "      \n",
              "  <style>\n",
              "    .colab-df-container {\n",
              "      display:flex;\n",
              "      flex-wrap:wrap;\n",
              "      gap: 12px;\n",
              "    }\n",
              "\n",
              "    .colab-df-convert {\n",
              "      background-color: #E8F0FE;\n",
              "      border: none;\n",
              "      border-radius: 50%;\n",
              "      cursor: pointer;\n",
              "      display: none;\n",
              "      fill: #1967D2;\n",
              "      height: 32px;\n",
              "      padding: 0 0 0 0;\n",
              "      width: 32px;\n",
              "    }\n",
              "\n",
              "    .colab-df-convert:hover {\n",
              "      background-color: #E2EBFA;\n",
              "      box-shadow: 0px 1px 2px rgba(60, 64, 67, 0.3), 0px 1px 3px 1px rgba(60, 64, 67, 0.15);\n",
              "      fill: #174EA6;\n",
              "    }\n",
              "\n",
              "    [theme=dark] .colab-df-convert {\n",
              "      background-color: #3B4455;\n",
              "      fill: #D2E3FC;\n",
              "    }\n",
              "\n",
              "    [theme=dark] .colab-df-convert:hover {\n",
              "      background-color: #434B5C;\n",
              "      box-shadow: 0px 1px 3px 1px rgba(0, 0, 0, 0.15);\n",
              "      filter: drop-shadow(0px 1px 2px rgba(0, 0, 0, 0.3));\n",
              "      fill: #FFFFFF;\n",
              "    }\n",
              "  </style>\n",
              "\n",
              "      <script>\n",
              "        const buttonEl =\n",
              "          document.querySelector('#df-e87df656-3d8b-461b-928b-4bd935096a07 button.colab-df-convert');\n",
              "        buttonEl.style.display =\n",
              "          google.colab.kernel.accessAllowed ? 'block' : 'none';\n",
              "\n",
              "        async function convertToInteractive(key) {\n",
              "          const element = document.querySelector('#df-e87df656-3d8b-461b-928b-4bd935096a07');\n",
              "          const dataTable =\n",
              "            await google.colab.kernel.invokeFunction('convertToInteractive',\n",
              "                                                     [key], {});\n",
              "          if (!dataTable) return;\n",
              "\n",
              "          const docLinkHtml = 'Like what you see? Visit the ' +\n",
              "            '<a target=\"_blank\" href=https://colab.research.google.com/notebooks/data_table.ipynb>data table notebook</a>'\n",
              "            + ' to learn more about interactive tables.';\n",
              "          element.innerHTML = '';\n",
              "          dataTable['output_type'] = 'display_data';\n",
              "          await google.colab.output.renderOutput(dataTable, element);\n",
              "          const docLink = document.createElement('div');\n",
              "          docLink.innerHTML = docLinkHtml;\n",
              "          element.appendChild(docLink);\n",
              "        }\n",
              "      </script>\n",
              "    </div>\n",
              "  </div>\n",
              "  "
            ]
          },
          "metadata": {},
          "execution_count": 49
        }
      ]
    },
    {
      "cell_type": "code",
      "source": [
        "# A continuacion agregaremos el nombre de las columnas respectivamente y agregaremos los datos de la fila 0 que se perdieron al incorporar el nombre de las columnas\n",
        "df2=df\n",
        "df2.columns = ['Sex',\n",
        "              'Length',\n",
        "              'Diameter',\n",
        "              'Height',\n",
        "              'Whole_weight',\n",
        "              'Shucked_weight',\n",
        "              'Viscera_weight',\n",
        "              'Shell_weight',\n",
        "              'Rings']\n",
        "\n",
        "nueva_fila = {'Sex':'M', 'Length':0.455, 'Diameter':0.365, 'Height':0.095, 'Whole_weight':0.514, 'Shucked_weight':0.2245, 'Viscera_weight':0.101, 'Shell_weight':0.15, 'Rings':15}\n",
        "df2 = df2.append(nueva_fila, ignore_index=True)"
      ],
      "metadata": {
        "id": "oUvcX2-0uAx_"
      },
      "execution_count": 50,
      "outputs": []
    },
    {
      "cell_type": "code",
      "source": [
        "# A continuacion revisaremos la categoria de cada dato, asi como tambien su integridad (verificacion de nulos)\n",
        "df2.info()"
      ],
      "metadata": {
        "colab": {
          "base_uri": "https://localhost:8080/"
        },
        "id": "G86bV5KLyWgP",
        "outputId": "2bc61300-dce6-4da8-90a5-a597da0c6627"
      },
      "execution_count": 51,
      "outputs": [
        {
          "output_type": "stream",
          "name": "stdout",
          "text": [
            "<class 'pandas.core.frame.DataFrame'>\n",
            "RangeIndex: 4177 entries, 0 to 4176\n",
            "Data columns (total 9 columns):\n",
            " #   Column          Non-Null Count  Dtype  \n",
            "---  ------          --------------  -----  \n",
            " 0   Sex             4177 non-null   object \n",
            " 1   Length          4177 non-null   float64\n",
            " 2   Diameter        4177 non-null   float64\n",
            " 3   Height          4177 non-null   float64\n",
            " 4   Whole_weight    4177 non-null   float64\n",
            " 5   Shucked_weight  4177 non-null   float64\n",
            " 6   Viscera_weight  4177 non-null   float64\n",
            " 7   Shell_weight    4177 non-null   float64\n",
            " 8   Rings           4177 non-null   int64  \n",
            "dtypes: float64(7), int64(1), object(1)\n",
            "memory usage: 293.8+ KB\n"
          ]
        }
      ]
    },
    {
      "cell_type": "code",
      "source": [
        "#A continuacion revisaremos la estadistica descriptiva\n",
        "df2.describe()"
      ],
      "metadata": {
        "colab": {
          "base_uri": "https://localhost:8080/",
          "height": 300
        },
        "id": "nYUKk-Xy0JMW",
        "outputId": "e2174acd-a7c4-4f54-f0f2-38390f58d180"
      },
      "execution_count": 52,
      "outputs": [
        {
          "output_type": "execute_result",
          "data": {
            "text/plain": [
              "            Length     Diameter       Height  Whole_weight  Shucked_weight  \\\n",
              "count  4177.000000  4177.000000  4177.000000   4177.000000     4177.000000   \n",
              "mean      0.523992     0.407881     0.139516      0.828742        0.359367   \n",
              "std       0.120093     0.099240     0.041827      0.490389        0.221963   \n",
              "min       0.075000     0.055000     0.000000      0.002000        0.001000   \n",
              "25%       0.450000     0.350000     0.115000      0.441500        0.186000   \n",
              "50%       0.545000     0.425000     0.140000      0.799500        0.336000   \n",
              "75%       0.615000     0.480000     0.165000      1.153000        0.502000   \n",
              "max       0.815000     0.650000     1.130000      2.825500        1.488000   \n",
              "\n",
              "       Viscera_weight  Shell_weight        Rings  \n",
              "count     4177.000000   4177.000000  4177.000000  \n",
              "mean         0.180594      0.238831     9.933684  \n",
              "std          0.109614      0.139203     3.224169  \n",
              "min          0.000500      0.001500     1.000000  \n",
              "25%          0.093500      0.130000     8.000000  \n",
              "50%          0.171000      0.234000     9.000000  \n",
              "75%          0.253000      0.329000    11.000000  \n",
              "max          0.760000      1.005000    29.000000  "
            ],
            "text/html": [
              "\n",
              "  <div id=\"df-78f9dbdf-cf38-4c24-9a94-80c045e0bb45\">\n",
              "    <div class=\"colab-df-container\">\n",
              "      <div>\n",
              "<style scoped>\n",
              "    .dataframe tbody tr th:only-of-type {\n",
              "        vertical-align: middle;\n",
              "    }\n",
              "\n",
              "    .dataframe tbody tr th {\n",
              "        vertical-align: top;\n",
              "    }\n",
              "\n",
              "    .dataframe thead th {\n",
              "        text-align: right;\n",
              "    }\n",
              "</style>\n",
              "<table border=\"1\" class=\"dataframe\">\n",
              "  <thead>\n",
              "    <tr style=\"text-align: right;\">\n",
              "      <th></th>\n",
              "      <th>Length</th>\n",
              "      <th>Diameter</th>\n",
              "      <th>Height</th>\n",
              "      <th>Whole_weight</th>\n",
              "      <th>Shucked_weight</th>\n",
              "      <th>Viscera_weight</th>\n",
              "      <th>Shell_weight</th>\n",
              "      <th>Rings</th>\n",
              "    </tr>\n",
              "  </thead>\n",
              "  <tbody>\n",
              "    <tr>\n",
              "      <th>count</th>\n",
              "      <td>4177.000000</td>\n",
              "      <td>4177.000000</td>\n",
              "      <td>4177.000000</td>\n",
              "      <td>4177.000000</td>\n",
              "      <td>4177.000000</td>\n",
              "      <td>4177.000000</td>\n",
              "      <td>4177.000000</td>\n",
              "      <td>4177.000000</td>\n",
              "    </tr>\n",
              "    <tr>\n",
              "      <th>mean</th>\n",
              "      <td>0.523992</td>\n",
              "      <td>0.407881</td>\n",
              "      <td>0.139516</td>\n",
              "      <td>0.828742</td>\n",
              "      <td>0.359367</td>\n",
              "      <td>0.180594</td>\n",
              "      <td>0.238831</td>\n",
              "      <td>9.933684</td>\n",
              "    </tr>\n",
              "    <tr>\n",
              "      <th>std</th>\n",
              "      <td>0.120093</td>\n",
              "      <td>0.099240</td>\n",
              "      <td>0.041827</td>\n",
              "      <td>0.490389</td>\n",
              "      <td>0.221963</td>\n",
              "      <td>0.109614</td>\n",
              "      <td>0.139203</td>\n",
              "      <td>3.224169</td>\n",
              "    </tr>\n",
              "    <tr>\n",
              "      <th>min</th>\n",
              "      <td>0.075000</td>\n",
              "      <td>0.055000</td>\n",
              "      <td>0.000000</td>\n",
              "      <td>0.002000</td>\n",
              "      <td>0.001000</td>\n",
              "      <td>0.000500</td>\n",
              "      <td>0.001500</td>\n",
              "      <td>1.000000</td>\n",
              "    </tr>\n",
              "    <tr>\n",
              "      <th>25%</th>\n",
              "      <td>0.450000</td>\n",
              "      <td>0.350000</td>\n",
              "      <td>0.115000</td>\n",
              "      <td>0.441500</td>\n",
              "      <td>0.186000</td>\n",
              "      <td>0.093500</td>\n",
              "      <td>0.130000</td>\n",
              "      <td>8.000000</td>\n",
              "    </tr>\n",
              "    <tr>\n",
              "      <th>50%</th>\n",
              "      <td>0.545000</td>\n",
              "      <td>0.425000</td>\n",
              "      <td>0.140000</td>\n",
              "      <td>0.799500</td>\n",
              "      <td>0.336000</td>\n",
              "      <td>0.171000</td>\n",
              "      <td>0.234000</td>\n",
              "      <td>9.000000</td>\n",
              "    </tr>\n",
              "    <tr>\n",
              "      <th>75%</th>\n",
              "      <td>0.615000</td>\n",
              "      <td>0.480000</td>\n",
              "      <td>0.165000</td>\n",
              "      <td>1.153000</td>\n",
              "      <td>0.502000</td>\n",
              "      <td>0.253000</td>\n",
              "      <td>0.329000</td>\n",
              "      <td>11.000000</td>\n",
              "    </tr>\n",
              "    <tr>\n",
              "      <th>max</th>\n",
              "      <td>0.815000</td>\n",
              "      <td>0.650000</td>\n",
              "      <td>1.130000</td>\n",
              "      <td>2.825500</td>\n",
              "      <td>1.488000</td>\n",
              "      <td>0.760000</td>\n",
              "      <td>1.005000</td>\n",
              "      <td>29.000000</td>\n",
              "    </tr>\n",
              "  </tbody>\n",
              "</table>\n",
              "</div>\n",
              "      <button class=\"colab-df-convert\" onclick=\"convertToInteractive('df-78f9dbdf-cf38-4c24-9a94-80c045e0bb45')\"\n",
              "              title=\"Convert this dataframe to an interactive table.\"\n",
              "              style=\"display:none;\">\n",
              "        \n",
              "  <svg xmlns=\"http://www.w3.org/2000/svg\" height=\"24px\"viewBox=\"0 0 24 24\"\n",
              "       width=\"24px\">\n",
              "    <path d=\"M0 0h24v24H0V0z\" fill=\"none\"/>\n",
              "    <path d=\"M18.56 5.44l.94 2.06.94-2.06 2.06-.94-2.06-.94-.94-2.06-.94 2.06-2.06.94zm-11 1L8.5 8.5l.94-2.06 2.06-.94-2.06-.94L8.5 2.5l-.94 2.06-2.06.94zm10 10l.94 2.06.94-2.06 2.06-.94-2.06-.94-.94-2.06-.94 2.06-2.06.94z\"/><path d=\"M17.41 7.96l-1.37-1.37c-.4-.4-.92-.59-1.43-.59-.52 0-1.04.2-1.43.59L10.3 9.45l-7.72 7.72c-.78.78-.78 2.05 0 2.83L4 21.41c.39.39.9.59 1.41.59.51 0 1.02-.2 1.41-.59l7.78-7.78 2.81-2.81c.8-.78.8-2.07 0-2.86zM5.41 20L4 18.59l7.72-7.72 1.47 1.35L5.41 20z\"/>\n",
              "  </svg>\n",
              "      </button>\n",
              "      \n",
              "  <style>\n",
              "    .colab-df-container {\n",
              "      display:flex;\n",
              "      flex-wrap:wrap;\n",
              "      gap: 12px;\n",
              "    }\n",
              "\n",
              "    .colab-df-convert {\n",
              "      background-color: #E8F0FE;\n",
              "      border: none;\n",
              "      border-radius: 50%;\n",
              "      cursor: pointer;\n",
              "      display: none;\n",
              "      fill: #1967D2;\n",
              "      height: 32px;\n",
              "      padding: 0 0 0 0;\n",
              "      width: 32px;\n",
              "    }\n",
              "\n",
              "    .colab-df-convert:hover {\n",
              "      background-color: #E2EBFA;\n",
              "      box-shadow: 0px 1px 2px rgba(60, 64, 67, 0.3), 0px 1px 3px 1px rgba(60, 64, 67, 0.15);\n",
              "      fill: #174EA6;\n",
              "    }\n",
              "\n",
              "    [theme=dark] .colab-df-convert {\n",
              "      background-color: #3B4455;\n",
              "      fill: #D2E3FC;\n",
              "    }\n",
              "\n",
              "    [theme=dark] .colab-df-convert:hover {\n",
              "      background-color: #434B5C;\n",
              "      box-shadow: 0px 1px 3px 1px rgba(0, 0, 0, 0.15);\n",
              "      filter: drop-shadow(0px 1px 2px rgba(0, 0, 0, 0.3));\n",
              "      fill: #FFFFFF;\n",
              "    }\n",
              "  </style>\n",
              "\n",
              "      <script>\n",
              "        const buttonEl =\n",
              "          document.querySelector('#df-78f9dbdf-cf38-4c24-9a94-80c045e0bb45 button.colab-df-convert');\n",
              "        buttonEl.style.display =\n",
              "          google.colab.kernel.accessAllowed ? 'block' : 'none';\n",
              "\n",
              "        async function convertToInteractive(key) {\n",
              "          const element = document.querySelector('#df-78f9dbdf-cf38-4c24-9a94-80c045e0bb45');\n",
              "          const dataTable =\n",
              "            await google.colab.kernel.invokeFunction('convertToInteractive',\n",
              "                                                     [key], {});\n",
              "          if (!dataTable) return;\n",
              "\n",
              "          const docLinkHtml = 'Like what you see? Visit the ' +\n",
              "            '<a target=\"_blank\" href=https://colab.research.google.com/notebooks/data_table.ipynb>data table notebook</a>'\n",
              "            + ' to learn more about interactive tables.';\n",
              "          element.innerHTML = '';\n",
              "          dataTable['output_type'] = 'display_data';\n",
              "          await google.colab.output.renderOutput(dataTable, element);\n",
              "          const docLink = document.createElement('div');\n",
              "          docLink.innerHTML = docLinkHtml;\n",
              "          element.appendChild(docLink);\n",
              "        }\n",
              "      </script>\n",
              "    </div>\n",
              "  </div>\n",
              "  "
            ]
          },
          "metadata": {},
          "execution_count": 52
        }
      ]
    },
    {
      "cell_type": "code",
      "source": [
        "#A continuacion analizamos la correlacion entra las variables cuantitativas.\n",
        "\n",
        "import pandas as pd\n",
        "\n",
        "corr_df2 = df2.corr(method='pearson')\n",
        "\n",
        "corr_df2.style.background_gradient(cmap='coolwarm')"
      ],
      "metadata": {
        "colab": {
          "base_uri": "https://localhost:8080/",
          "height": 300
        },
        "id": "gdUNViFk0Rql",
        "outputId": "17e329df-f461-4308-e929-cf22f78956d8"
      },
      "execution_count": 53,
      "outputs": [
        {
          "output_type": "execute_result",
          "data": {
            "text/plain": [
              "<pandas.io.formats.style.Styler at 0x7ff793554e90>"
            ],
            "text/html": [
              "<style type=\"text/css\">\n",
              "#T_58df5_row0_col0, #T_58df5_row1_col1, #T_58df5_row2_col2, #T_58df5_row3_col3, #T_58df5_row4_col4, #T_58df5_row5_col5, #T_58df5_row6_col6, #T_58df5_row7_col7 {\n",
              "  background-color: #b40426;\n",
              "  color: #f1f1f1;\n",
              "}\n",
              "#T_58df5_row0_col1, #T_58df5_row1_col0 {\n",
              "  background-color: #be242e;\n",
              "  color: #f1f1f1;\n",
              "}\n",
              "#T_58df5_row0_col2, #T_58df5_row2_col0, #T_58df5_row2_col4 {\n",
              "  background-color: #f3c8b2;\n",
              "  color: #000000;\n",
              "}\n",
              "#T_58df5_row0_col3, #T_58df5_row1_col3 {\n",
              "  background-color: #e67259;\n",
              "  color: #f1f1f1;\n",
              "}\n",
              "#T_58df5_row0_col4 {\n",
              "  background-color: #e97a5f;\n",
              "  color: #f1f1f1;\n",
              "}\n",
              "#T_58df5_row0_col5 {\n",
              "  background-color: #ed8366;\n",
              "  color: #f1f1f1;\n",
              "}\n",
              "#T_58df5_row0_col6 {\n",
              "  background-color: #f6a385;\n",
              "  color: #000000;\n",
              "}\n",
              "#T_58df5_row0_col7, #T_58df5_row2_col7 {\n",
              "  background-color: #88abfd;\n",
              "  color: #000000;\n",
              "}\n",
              "#T_58df5_row1_col2 {\n",
              "  background-color: #f4c5ad;\n",
              "  color: #000000;\n",
              "}\n",
              "#T_58df5_row1_col4, #T_58df5_row6_col5 {\n",
              "  background-color: #eb7d62;\n",
              "  color: #f1f1f1;\n",
              "}\n",
              "#T_58df5_row1_col5, #T_58df5_row6_col4 {\n",
              "  background-color: #ee8468;\n",
              "  color: #f1f1f1;\n",
              "}\n",
              "#T_58df5_row1_col6 {\n",
              "  background-color: #f59c7d;\n",
              "  color: #000000;\n",
              "}\n",
              "#T_58df5_row1_col7 {\n",
              "  background-color: #92b4fe;\n",
              "  color: #000000;\n",
              "}\n",
              "#T_58df5_row2_col1, #T_58df5_row2_col3 {\n",
              "  background-color: #f2c9b4;\n",
              "  color: #000000;\n",
              "}\n",
              "#T_58df5_row2_col5, #T_58df5_row3_col2 {\n",
              "  background-color: #f1cdba;\n",
              "  color: #000000;\n",
              "}\n",
              "#T_58df5_row2_col6 {\n",
              "  background-color: #dfdbd9;\n",
              "  color: #000000;\n",
              "}\n",
              "#T_58df5_row3_col0 {\n",
              "  background-color: #e8765c;\n",
              "  color: #f1f1f1;\n",
              "}\n",
              "#T_58df5_row3_col1 {\n",
              "  background-color: #e9785d;\n",
              "  color: #f1f1f1;\n",
              "}\n",
              "#T_58df5_row3_col4 {\n",
              "  background-color: #c73635;\n",
              "  color: #f1f1f1;\n",
              "}\n",
              "#T_58df5_row3_col5, #T_58df5_row4_col3 {\n",
              "  background-color: #cc403a;\n",
              "  color: #f1f1f1;\n",
              "}\n",
              "#T_58df5_row3_col6, #T_58df5_row5_col4 {\n",
              "  background-color: #dc5d4a;\n",
              "  color: #f1f1f1;\n",
              "}\n",
              "#T_58df5_row3_col7 {\n",
              "  background-color: #7da0f9;\n",
              "  color: #f1f1f1;\n",
              "}\n",
              "#T_58df5_row4_col0 {\n",
              "  background-color: #f29072;\n",
              "  color: #f1f1f1;\n",
              "}\n",
              "#T_58df5_row4_col1 {\n",
              "  background-color: #f49a7b;\n",
              "  color: #000000;\n",
              "}\n",
              "#T_58df5_row4_col2 {\n",
              "  background-color: #dadce0;\n",
              "  color: #000000;\n",
              "}\n",
              "#T_58df5_row4_col5 {\n",
              "  background-color: #e16751;\n",
              "  color: #f1f1f1;\n",
              "}\n",
              "#T_58df5_row4_col6 {\n",
              "  background-color: #f7b194;\n",
              "  color: #000000;\n",
              "}\n",
              "#T_58df5_row4_col7, #T_58df5_row7_col0, #T_58df5_row7_col1, #T_58df5_row7_col2, #T_58df5_row7_col3, #T_58df5_row7_col4, #T_58df5_row7_col5, #T_58df5_row7_col6 {\n",
              "  background-color: #3b4cc0;\n",
              "  color: #f1f1f1;\n",
              "}\n",
              "#T_58df5_row5_col0, #T_58df5_row6_col1 {\n",
              "  background-color: #f18d6f;\n",
              "  color: #f1f1f1;\n",
              "}\n",
              "#T_58df5_row5_col1 {\n",
              "  background-color: #f39475;\n",
              "  color: #000000;\n",
              "}\n",
              "#T_58df5_row5_col2 {\n",
              "  background-color: #e8d6cc;\n",
              "  color: #000000;\n",
              "}\n",
              "#T_58df5_row5_col3 {\n",
              "  background-color: #cd423b;\n",
              "  color: #f1f1f1;\n",
              "}\n",
              "#T_58df5_row5_col6 {\n",
              "  background-color: #f4987a;\n",
              "  color: #000000;\n",
              "}\n",
              "#T_58df5_row5_col7 {\n",
              "  background-color: #6788ee;\n",
              "  color: #f1f1f1;\n",
              "}\n",
              "#T_58df5_row6_col0 {\n",
              "  background-color: #f29274;\n",
              "  color: #f1f1f1;\n",
              "}\n",
              "#T_58df5_row6_col2 {\n",
              "  background-color: #f0cdbb;\n",
              "  color: #000000;\n",
              "}\n",
              "#T_58df5_row6_col3 {\n",
              "  background-color: #d55042;\n",
              "  color: #f1f1f1;\n",
              "}\n",
              "#T_58df5_row6_col7 {\n",
              "  background-color: #b2ccfb;\n",
              "  color: #000000;\n",
              "}\n",
              "</style>\n",
              "<table id=\"T_58df5_\" class=\"dataframe\">\n",
              "  <thead>\n",
              "    <tr>\n",
              "      <th class=\"blank level0\" >&nbsp;</th>\n",
              "      <th class=\"col_heading level0 col0\" >Length</th>\n",
              "      <th class=\"col_heading level0 col1\" >Diameter</th>\n",
              "      <th class=\"col_heading level0 col2\" >Height</th>\n",
              "      <th class=\"col_heading level0 col3\" >Whole_weight</th>\n",
              "      <th class=\"col_heading level0 col4\" >Shucked_weight</th>\n",
              "      <th class=\"col_heading level0 col5\" >Viscera_weight</th>\n",
              "      <th class=\"col_heading level0 col6\" >Shell_weight</th>\n",
              "      <th class=\"col_heading level0 col7\" >Rings</th>\n",
              "    </tr>\n",
              "  </thead>\n",
              "  <tbody>\n",
              "    <tr>\n",
              "      <th id=\"T_58df5_level0_row0\" class=\"row_heading level0 row0\" >Length</th>\n",
              "      <td id=\"T_58df5_row0_col0\" class=\"data row0 col0\" >1.000000</td>\n",
              "      <td id=\"T_58df5_row0_col1\" class=\"data row0 col1\" >0.986812</td>\n",
              "      <td id=\"T_58df5_row0_col2\" class=\"data row0 col2\" >0.827554</td>\n",
              "      <td id=\"T_58df5_row0_col3\" class=\"data row0 col3\" >0.925261</td>\n",
              "      <td id=\"T_58df5_row0_col4\" class=\"data row0 col4\" >0.897914</td>\n",
              "      <td id=\"T_58df5_row0_col5\" class=\"data row0 col5\" >0.903018</td>\n",
              "      <td id=\"T_58df5_row0_col6\" class=\"data row0 col6\" >0.897706</td>\n",
              "      <td id=\"T_58df5_row0_col7\" class=\"data row0 col7\" >0.556720</td>\n",
              "    </tr>\n",
              "    <tr>\n",
              "      <th id=\"T_58df5_level0_row1\" class=\"row_heading level0 row1\" >Diameter</th>\n",
              "      <td id=\"T_58df5_row1_col0\" class=\"data row1 col0\" >0.986812</td>\n",
              "      <td id=\"T_58df5_row1_col1\" class=\"data row1 col1\" >1.000000</td>\n",
              "      <td id=\"T_58df5_row1_col2\" class=\"data row1 col2\" >0.833684</td>\n",
              "      <td id=\"T_58df5_row1_col3\" class=\"data row1 col3\" >0.925452</td>\n",
              "      <td id=\"T_58df5_row1_col4\" class=\"data row1 col4\" >0.893162</td>\n",
              "      <td id=\"T_58df5_row1_col5\" class=\"data row1 col5\" >0.899724</td>\n",
              "      <td id=\"T_58df5_row1_col6\" class=\"data row1 col6\" >0.905330</td>\n",
              "      <td id=\"T_58df5_row1_col7\" class=\"data row1 col7\" >0.574660</td>\n",
              "    </tr>\n",
              "    <tr>\n",
              "      <th id=\"T_58df5_level0_row2\" class=\"row_heading level0 row2\" >Height</th>\n",
              "      <td id=\"T_58df5_row2_col0\" class=\"data row2 col0\" >0.827554</td>\n",
              "      <td id=\"T_58df5_row2_col1\" class=\"data row2 col1\" >0.833684</td>\n",
              "      <td id=\"T_58df5_row2_col2\" class=\"data row2 col2\" >1.000000</td>\n",
              "      <td id=\"T_58df5_row2_col3\" class=\"data row2 col3\" >0.819221</td>\n",
              "      <td id=\"T_58df5_row2_col4\" class=\"data row2 col4\" >0.774972</td>\n",
              "      <td id=\"T_58df5_row2_col5\" class=\"data row2 col5\" >0.798319</td>\n",
              "      <td id=\"T_58df5_row2_col6\" class=\"data row2 col6\" >0.817338</td>\n",
              "      <td id=\"T_58df5_row2_col7\" class=\"data row2 col7\" >0.557467</td>\n",
              "    </tr>\n",
              "    <tr>\n",
              "      <th id=\"T_58df5_level0_row3\" class=\"row_heading level0 row3\" >Whole_weight</th>\n",
              "      <td id=\"T_58df5_row3_col0\" class=\"data row3 col0\" >0.925261</td>\n",
              "      <td id=\"T_58df5_row3_col1\" class=\"data row3 col1\" >0.925452</td>\n",
              "      <td id=\"T_58df5_row3_col2\" class=\"data row3 col2\" >0.819221</td>\n",
              "      <td id=\"T_58df5_row3_col3\" class=\"data row3 col3\" >1.000000</td>\n",
              "      <td id=\"T_58df5_row3_col4\" class=\"data row3 col4\" >0.969405</td>\n",
              "      <td id=\"T_58df5_row3_col5\" class=\"data row3 col5\" >0.966375</td>\n",
              "      <td id=\"T_58df5_row3_col6\" class=\"data row3 col6\" >0.955355</td>\n",
              "      <td id=\"T_58df5_row3_col7\" class=\"data row3 col7\" >0.540390</td>\n",
              "    </tr>\n",
              "    <tr>\n",
              "      <th id=\"T_58df5_level0_row4\" class=\"row_heading level0 row4\" >Shucked_weight</th>\n",
              "      <td id=\"T_58df5_row4_col0\" class=\"data row4 col0\" >0.897914</td>\n",
              "      <td id=\"T_58df5_row4_col1\" class=\"data row4 col1\" >0.893162</td>\n",
              "      <td id=\"T_58df5_row4_col2\" class=\"data row4 col2\" >0.774972</td>\n",
              "      <td id=\"T_58df5_row4_col3\" class=\"data row4 col3\" >0.969405</td>\n",
              "      <td id=\"T_58df5_row4_col4\" class=\"data row4 col4\" >1.000000</td>\n",
              "      <td id=\"T_58df5_row4_col5\" class=\"data row4 col5\" >0.931961</td>\n",
              "      <td id=\"T_58df5_row4_col6\" class=\"data row4 col6\" >0.882617</td>\n",
              "      <td id=\"T_58df5_row4_col7\" class=\"data row4 col7\" >0.420884</td>\n",
              "    </tr>\n",
              "    <tr>\n",
              "      <th id=\"T_58df5_level0_row5\" class=\"row_heading level0 row5\" >Viscera_weight</th>\n",
              "      <td id=\"T_58df5_row5_col0\" class=\"data row5 col0\" >0.903018</td>\n",
              "      <td id=\"T_58df5_row5_col1\" class=\"data row5 col1\" >0.899724</td>\n",
              "      <td id=\"T_58df5_row5_col2\" class=\"data row5 col2\" >0.798319</td>\n",
              "      <td id=\"T_58df5_row5_col3\" class=\"data row5 col3\" >0.966375</td>\n",
              "      <td id=\"T_58df5_row5_col4\" class=\"data row5 col4\" >0.931961</td>\n",
              "      <td id=\"T_58df5_row5_col5\" class=\"data row5 col5\" >1.000000</td>\n",
              "      <td id=\"T_58df5_row5_col6\" class=\"data row5 col6\" >0.907656</td>\n",
              "      <td id=\"T_58df5_row5_col7\" class=\"data row5 col7\" >0.503819</td>\n",
              "    </tr>\n",
              "    <tr>\n",
              "      <th id=\"T_58df5_level0_row6\" class=\"row_heading level0 row6\" >Shell_weight</th>\n",
              "      <td id=\"T_58df5_row6_col0\" class=\"data row6 col0\" >0.897706</td>\n",
              "      <td id=\"T_58df5_row6_col1\" class=\"data row6 col1\" >0.905330</td>\n",
              "      <td id=\"T_58df5_row6_col2\" class=\"data row6 col2\" >0.817338</td>\n",
              "      <td id=\"T_58df5_row6_col3\" class=\"data row6 col3\" >0.955355</td>\n",
              "      <td id=\"T_58df5_row6_col4\" class=\"data row6 col4\" >0.882617</td>\n",
              "      <td id=\"T_58df5_row6_col5\" class=\"data row6 col5\" >0.907656</td>\n",
              "      <td id=\"T_58df5_row6_col6\" class=\"data row6 col6\" >1.000000</td>\n",
              "      <td id=\"T_58df5_row6_col7\" class=\"data row6 col7\" >0.627574</td>\n",
              "    </tr>\n",
              "    <tr>\n",
              "      <th id=\"T_58df5_level0_row7\" class=\"row_heading level0 row7\" >Rings</th>\n",
              "      <td id=\"T_58df5_row7_col0\" class=\"data row7 col0\" >0.556720</td>\n",
              "      <td id=\"T_58df5_row7_col1\" class=\"data row7 col1\" >0.574660</td>\n",
              "      <td id=\"T_58df5_row7_col2\" class=\"data row7 col2\" >0.557467</td>\n",
              "      <td id=\"T_58df5_row7_col3\" class=\"data row7 col3\" >0.540390</td>\n",
              "      <td id=\"T_58df5_row7_col4\" class=\"data row7 col4\" >0.420884</td>\n",
              "      <td id=\"T_58df5_row7_col5\" class=\"data row7 col5\" >0.503819</td>\n",
              "      <td id=\"T_58df5_row7_col6\" class=\"data row7 col6\" >0.627574</td>\n",
              "      <td id=\"T_58df5_row7_col7\" class=\"data row7 col7\" >1.000000</td>\n",
              "    </tr>\n",
              "  </tbody>\n",
              "</table>\n"
            ]
          },
          "metadata": {},
          "execution_count": 53
        }
      ]
    },
    {
      "cell_type": "markdown",
      "source": [
        "1. Creacion y Optimizacion de Modelo Predictivo"
      ],
      "metadata": {
        "id": "tYT40Cvn1Rhi"
      }
    },
    {
      "cell_type": "code",
      "source": [
        "import pandas as pd\n",
        "import numpy as np\n",
        "import matplotlib.pyplot as plt\n",
        "from matplotlib.colors import ListedColormap\n",
        "import matplotlib.patches as mpatches\n",
        "import seaborn as sb\n",
        "\n",
        "%matplotlib inline\n",
        "plt.rcParams['figure.figsize'] = (16, 9)\n",
        "plt.style.use('ggplot')\n",
        "\n",
        "from sklearn.model_selection import train_test_split\n",
        "from sklearn.preprocessing import MinMaxScaler\n",
        "from sklearn.neighbors import KNeighborsClassifier\n",
        "from sklearn.metrics import classification_report\n",
        "from sklearn.metrics import confusion_matrix"
      ],
      "metadata": {
        "id": "vxQ9VXYa1TVm"
      },
      "execution_count": 54,
      "outputs": []
    },
    {
      "cell_type": "markdown",
      "source": [
        "Preparamos el dataset"
      ],
      "metadata": {
        "id": "-mfiZlNi1hYc"
      }
    },
    {
      "cell_type": "code",
      "source": [
        "X1 = df2[['Length','Diameter','Height','Whole_weight','Whole_weight','Viscera_weight','Shell_weight']].values\n",
        "y1 = df2['Rings'].values\n",
        "\n",
        "X_train1, X_test1, y_train1, y_test1 = train_test_split(X1, y1,test_size=0.3, random_state=123)\n",
        "scaler = MinMaxScaler()\n",
        "X_train1 = scaler.fit_transform(X_train1)\n",
        "X_test1 = scaler.transform(X_test1)"
      ],
      "metadata": {
        "id": "fszzVWt41jWc"
      },
      "execution_count": 55,
      "outputs": []
    },
    {
      "cell_type": "markdown",
      "source": [
        "Creamos el Modelo\n"
      ],
      "metadata": {
        "id": "9GJbA--h3K6j"
      }
    },
    {
      "cell_type": "code",
      "source": [
        "#Realizamos iteraciones para \"N° de vecinos\" y nos quedamos con el mejor equilibrio para el nivel de precision de test y entrenamiento.\n",
        "\n",
        "n_neighbors = 50\n",
        "\n",
        "knn = KNeighborsClassifier(n_neighbors)\n",
        "knn.fit(X_train1, y_train1)\n",
        "print('Accuracy of K-NN classifier on training set: {:.2f}'\n",
        "     .format(knn.score(X_train1, y_train1)))\n",
        "print('Accuracy of K-NN classifier on test set: {:.2f}'\n",
        "     .format(knn.score(X_test1, y_test1)))"
      ],
      "metadata": {
        "colab": {
          "base_uri": "https://localhost:8080/"
        },
        "id": "WjVNtigs3MDq",
        "outputId": "1c36f023-b8ca-4e08-a700-45ec57c94e53"
      },
      "execution_count": 56,
      "outputs": [
        {
          "output_type": "stream",
          "name": "stdout",
          "text": [
            "Accuracy of K-NN classifier on training set: 0.30\n",
            "Accuracy of K-NN classifier on test set: 0.28\n"
          ]
        }
      ]
    },
    {
      "cell_type": "markdown",
      "source": [
        "Resultados obtenidos"
      ],
      "metadata": {
        "id": "gOcF7sxC3bbL"
      }
    },
    {
      "cell_type": "code",
      "source": [
        "pred = knn.predict(X_test1)\n",
        "print(confusion_matrix(y_test1, pred))\n",
        "print(classification_report(y_test1, pred))"
      ],
      "metadata": {
        "colab": {
          "base_uri": "https://localhost:8080/"
        },
        "id": "5p3v-KKB3czc",
        "outputId": "68560764-c642-4238-c78c-be85afb70610"
      },
      "execution_count": 57,
      "outputs": [
        {
          "output_type": "stream",
          "name": "stdout",
          "text": [
            "[[ 0  0  1  0  0  0  0  0  0  0  0  0  0  0  0  0  0  0  0  0  0  0]\n",
            " [ 0  0  3  1  0  0  0  0  0  0  0  0  0  0  0  0  0  0  0  0  0  0]\n",
            " [ 0  0 10  8  3  0  0  0  0  0  0  0  0  0  0  0  0  0  0  0  0  0]\n",
            " [ 0  0  1 16 14  2  0  0  0  0  0  0  0  0  0  0  0  0  0  0  0  0]\n",
            " [ 0  0  0 12 23 29  8  0  0  0  0  1  0  0  0  0  0  0  0  0  0  0]\n",
            " [ 0  0  0  7 21 45 26 11  5  0  0  0  0  0  0  0  0  0  0  0  0  0]\n",
            " [ 0  0  0  0 14 30 63 43 15  3  0  0  1  0  0  0  0  0  0  0  0  0]\n",
            " [ 0  0  0  1  3 21 39 86 59 11  1  0  0  0  0  0  0  0  0  0  0  0]\n",
            " [ 0  0  0  0  5 15 27 47 76 23  1  0  0  0  0  0  0  0  0  0  0  0]\n",
            " [ 0  0  0  0  1  2 15 34 59 28  1  2  0  0  0  0  0  0  0  0  0  0]\n",
            " [ 0  0  0  0  0  5  9 19 31 14  2  1  0  0  0  0  0  0  0  0  0  0]\n",
            " [ 0  0  0  0  0  6  6 11 20 14  1  1  0  0  0  0  0  0  0  0  0  0]\n",
            " [ 0  0  0  0  0  0  7  6  8  7  4  1  0  0  0  0  0  0  0  0  0  0]\n",
            " [ 0  0  0  0  0  1  3  8 12 10  1  0  0  0  0  0  0  0  0  0  0  0]\n",
            " [ 0  0  0  0  0  0  6  5  7  4  0  1  0  0  0  0  0  0  0  0  0  0]\n",
            " [ 0  0  0  0  0  0  0  6  7  4  2  0  1  0  0  0  0  0  0  0  0  0]\n",
            " [ 0  0  0  0  0  0  1  1  4  2  0  0  1  0  0  0  0  0  0  0  0  0]\n",
            " [ 0  0  0  0  0  0  0  0  4  0  0  1  0  0  0  0  0  0  0  0  0  0]\n",
            " [ 0  0  0  0  0  0  0  0  5  1  0  0  1  1  0  0  0  0  0  0  0  0]\n",
            " [ 0  0  0  0  0  0  1  0  1  3  0  0  0  0  0  0  0  0  0  0  0  0]\n",
            " [ 0  0  0  0  0  0  0  0  1  0  0  1  0  0  0  0  0  0  0  0  0  0]\n",
            " [ 0  0  0  0  0  0  0  0  0  1  0  0  0  0  0  0  0  0  0  0  0  0]]\n",
            "              precision    recall  f1-score   support\n",
            "\n",
            "           1       0.00      0.00      0.00         1\n",
            "           3       0.00      0.00      0.00         4\n",
            "           4       0.67      0.48      0.56        21\n",
            "           5       0.36      0.48      0.41        33\n",
            "           6       0.27      0.32      0.29        73\n",
            "           7       0.29      0.39      0.33       115\n",
            "           8       0.30      0.37      0.33       169\n",
            "           9       0.31      0.39      0.35       221\n",
            "          10       0.24      0.39      0.30       194\n",
            "          11       0.22      0.20      0.21       142\n",
            "          12       0.15      0.02      0.04        81\n",
            "          13       0.11      0.02      0.03        59\n",
            "          14       0.00      0.00      0.00        33\n",
            "          15       0.00      0.00      0.00        35\n",
            "          16       0.00      0.00      0.00        23\n",
            "          17       0.00      0.00      0.00        20\n",
            "          18       0.00      0.00      0.00         9\n",
            "          19       0.00      0.00      0.00         5\n",
            "          20       0.00      0.00      0.00         8\n",
            "          21       0.00      0.00      0.00         5\n",
            "          23       0.00      0.00      0.00         2\n",
            "          24       0.00      0.00      0.00         1\n",
            "\n",
            "    accuracy                           0.28      1254\n",
            "   macro avg       0.13      0.14      0.13      1254\n",
            "weighted avg       0.24      0.28      0.25      1254\n",
            "\n"
          ]
        },
        {
          "output_type": "stream",
          "name": "stderr",
          "text": [
            "/usr/local/lib/python3.7/dist-packages/sklearn/metrics/_classification.py:1318: UndefinedMetricWarning: Precision and F-score are ill-defined and being set to 0.0 in labels with no predicted samples. Use `zero_division` parameter to control this behavior.\n",
            "  _warn_prf(average, modifier, msg_start, len(result))\n",
            "/usr/local/lib/python3.7/dist-packages/sklearn/metrics/_classification.py:1318: UndefinedMetricWarning: Precision and F-score are ill-defined and being set to 0.0 in labels with no predicted samples. Use `zero_division` parameter to control this behavior.\n",
            "  _warn_prf(average, modifier, msg_start, len(result))\n",
            "/usr/local/lib/python3.7/dist-packages/sklearn/metrics/_classification.py:1318: UndefinedMetricWarning: Precision and F-score are ill-defined and being set to 0.0 in labels with no predicted samples. Use `zero_division` parameter to control this behavior.\n",
            "  _warn_prf(average, modifier, msg_start, len(result))\n"
          ]
        }
      ]
    },
    {
      "cell_type": "markdown",
      "source": [
        "Preparamos el dataset"
      ],
      "metadata": {
        "id": "GXaRWLPd6Xkj"
      }
    },
    {
      "cell_type": "code",
      "source": [
        "X2 = df2[['Length','Diameter','Height','Whole_weight','Whole_weight','Viscera_weight','Shell_weight','Rings']].values\n",
        "y2 = df2['Sex'].values\n",
        "\n",
        "X_train2, X_test2, y_train2, y_test2 = train_test_split(X2, y2,test_size=0.3, random_state=123)\n",
        "scaler = MinMaxScaler()\n",
        "X_train2 = scaler.fit_transform(X_train2)\n",
        "X_test2 = scaler.transform(X_test2)"
      ],
      "metadata": {
        "id": "vzCRQrJ96YhZ"
      },
      "execution_count": 58,
      "outputs": []
    },
    {
      "cell_type": "markdown",
      "source": [
        "Creamos el Modelo"
      ],
      "metadata": {
        "id": "HsN39fcu67HI"
      }
    },
    {
      "cell_type": "code",
      "source": [
        "n_neighbors = 50\n",
        "\n",
        "knn = KNeighborsClassifier(n_neighbors)\n",
        "knn.fit(X_train2, y_train2)\n",
        "print('Accuracy of K-NN classifier on training set: {:.2f}'\n",
        "     .format(knn.score(X_train2, y_train2)))\n",
        "print('Accuracy of K-NN classifier on test set: {:.2f}'\n",
        "     .format(knn.score(X_test2, y_test2)))"
      ],
      "metadata": {
        "colab": {
          "base_uri": "https://localhost:8080/"
        },
        "id": "hcjuwFfT670x",
        "outputId": "3e7bcb84-92bc-4a63-c8ef-d4c07144032d"
      },
      "execution_count": 59,
      "outputs": [
        {
          "output_type": "stream",
          "name": "stdout",
          "text": [
            "Accuracy of K-NN classifier on training set: 0.59\n",
            "Accuracy of K-NN classifier on test set: 0.54\n"
          ]
        }
      ]
    },
    {
      "cell_type": "markdown",
      "source": [
        "Resultados obtenidos"
      ],
      "metadata": {
        "id": "t2eHyKEj7Ffa"
      }
    },
    {
      "cell_type": "code",
      "source": [
        "pred = knn.predict(X_test2)\n",
        "print(confusion_matrix(y_test2, pred))\n",
        "print(classification_report(y_test2, pred))"
      ],
      "metadata": {
        "colab": {
          "base_uri": "https://localhost:8080/"
        },
        "id": "csNApYwP7Hxh",
        "outputId": "946b0e10-be54-4058-badb-eb15f6db0ee2"
      },
      "execution_count": 60,
      "outputs": [
        {
          "output_type": "stream",
          "name": "stdout",
          "text": [
            "[[142  60 182]\n",
            " [ 38 317  53]\n",
            " [150  96 216]]\n",
            "              precision    recall  f1-score   support\n",
            "\n",
            "           F       0.43      0.37      0.40       384\n",
            "           I       0.67      0.78      0.72       408\n",
            "           M       0.48      0.47      0.47       462\n",
            "\n",
            "    accuracy                           0.54      1254\n",
            "   macro avg       0.53      0.54      0.53      1254\n",
            "weighted avg       0.53      0.54      0.53      1254\n",
            "\n"
          ]
        }
      ]
    },
    {
      "cell_type": "markdown",
      "source": [
        "2. Preguntas y Respuestas:\n",
        "\n",
        "\n",
        "\n",
        "*   ¿Podrías haber utilizado la regresión lineal y la regresión KNN para resolver el problema de regresión?\n",
        "\n",
        "R: El problema presentaba altos niveles de correlacion entre las variables cuantitativas, sin embargo no permitia llegar a mayores niveles de prediccion dentro del modelo.\n",
        "\n",
        "*   ¿Podrías haber utilizado la regresión lineal para el problema de clasificación?\n",
        "\n",
        "R: Es posible, sin embargo no se llegan a niveles de precision y prediccionar dentro de un margen esperado.\n",
        "\n",
        "\n"
      ],
      "metadata": {
        "id": "f6C1CE3d7i7k"
      }
    },
    {
      "cell_type": "markdown",
      "source": [
        "# **Ejercicio de división entrenar probar**"
      ],
      "metadata": {
        "id": "XXexfmFaZS0W"
      }
    },
    {
      "cell_type": "markdown",
      "source": [
        "A) Regresion Linear Sin entrenamiento"
      ],
      "metadata": {
        "id": "ab1jhl7Dgkm0"
      }
    },
    {
      "cell_type": "code",
      "source": [
        "from sklearn.preprocessing import StandardScaler\n",
        "from sklearn.linear_model import LinearRegression\n",
        "from sklearn.metrics import r2_score\n",
        "from sklearn.model_selection import train_test_split\n",
        "from sklearn.neighbors import KNeighborsClassifier\n",
        "from sklearn.datasets import load_iris\n",
        "from sklearn.metrics import precision_recall_fscore_support\n",
        "from sklearn.neighbors import KNeighborsRegressor"
      ],
      "metadata": {
        "id": "x0BweAw2gwyt"
      },
      "execution_count": 61,
      "outputs": []
    },
    {
      "cell_type": "code",
      "source": [
        "reg = LinearRegression(fit_intercept=True)\n",
        "reg.fit(X1,y1)\n",
        "score = reg.score(X1, y1)\n",
        "print(score)"
      ],
      "metadata": {
        "id": "HR087biyg4_C",
        "outputId": "8ae9ec20-2644-4887-c755-44fd2f38df8c",
        "colab": {
          "base_uri": "https://localhost:8080/"
        }
      },
      "execution_count": 62,
      "outputs": [
        {
          "output_type": "stream",
          "name": "stdout",
          "text": [
            "0.4593293877921072\n"
          ]
        }
      ]
    },
    {
      "cell_type": "markdown",
      "source": [
        "B) KNN Sin Entrenamiento"
      ],
      "metadata": {
        "id": "nIJd914Kjo-L"
      }
    },
    {
      "cell_type": "code",
      "source": [
        "X1 = df2[['Length','Diameter','Height','Whole_weight','Whole_weight','Viscera_weight','Shell_weight']].values\n",
        "y1 = df2['Rings'].values\n",
        "n_neighbors = 50\n",
        "\n",
        "knn = KNeighborsClassifier(n_neighbors)\n",
        "knn.fit(X1, y1)\n",
        "print('Accuracy of K-NN classifier on set: {:.2f}'\n",
        "     .format(knn.score(X1, y1)))"
      ],
      "metadata": {
        "id": "ct4A0SVkjroJ",
        "outputId": "41fbb6a5-d2fd-471e-a906-1454db909e3a",
        "colab": {
          "base_uri": "https://localhost:8080/"
        }
      },
      "execution_count": 63,
      "outputs": [
        {
          "output_type": "stream",
          "name": "stdout",
          "text": [
            "Accuracy of K-NN classifier on set: 0.30\n"
          ]
        }
      ]
    },
    {
      "cell_type": "markdown",
      "source": [
        "C) Regresion Linear Con entrenamiento"
      ],
      "metadata": {
        "id": "BDtD6eEHkliN"
      }
    },
    {
      "cell_type": "code",
      "source": [
        "reg = LinearRegression(fit_intercept=True)\n",
        "reg.fit(X_test1,y_test1)\n",
        "X_train1, X_test1, y_train1, y_test1 = train_test_split(X1, y1,test_size=0.3, random_state=123)\n",
        "scaler = MinMaxScaler()\n",
        "X_train1 = scaler.fit_transform(X_train1)\n",
        "X_test1 = scaler.transform(X_test1)\n",
        "\n",
        "score = reg.score(X_test1, y_test1)\n",
        "print(score)"
      ],
      "metadata": {
        "id": "VwRFzrhSkrqM",
        "outputId": "43ab8f25-85a5-456b-b7db-7c527e8b2f14",
        "colab": {
          "base_uri": "https://localhost:8080/"
        }
      },
      "execution_count": 64,
      "outputs": [
        {
          "output_type": "stream",
          "name": "stdout",
          "text": [
            "0.4419676394699392\n"
          ]
        }
      ]
    },
    {
      "cell_type": "markdown",
      "source": [
        "D) KNN Con Entrenamiento"
      ],
      "metadata": {
        "id": "Jx74x2uEmhSZ"
      }
    },
    {
      "cell_type": "code",
      "source": [
        "X1 = df2[['Length','Diameter','Height','Whole_weight','Whole_weight','Viscera_weight','Shell_weight']].values\n",
        "y1 = df2['Rings'].values\n",
        "\n",
        "X_train1, X_test1, y_train1, y_test1 = train_test_split(X1, y1,test_size=0.3, random_state=123)\n",
        "scaler = MinMaxScaler()\n",
        "X_train1 = scaler.fit_transform(X_train1)\n",
        "X_test1 = scaler.transform(X_test1)\n",
        "\n",
        "n_neighbors = 50\n",
        "\n",
        "knn = KNeighborsClassifier(n_neighbors)\n",
        "knn.fit(X_train1, y_train1)\n",
        "print('Accuracy of K-NN classifier on training set: {:.2f}'\n",
        "     .format(knn.score(X_train1, y_train1)))\n",
        "print('Accuracy of K-NN classifier on test set: {:.2f}'\n",
        "     .format(knn.score(X_test1, y_test1)))"
      ],
      "metadata": {
        "id": "7JAklc9QmgdR",
        "outputId": "90642368-ccbe-47ad-9657-55447ea0451c",
        "colab": {
          "base_uri": "https://localhost:8080/"
        }
      },
      "execution_count": 65,
      "outputs": [
        {
          "output_type": "stream",
          "name": "stdout",
          "text": [
            "Accuracy of K-NN classifier on training set: 0.30\n",
            "Accuracy of K-NN classifier on test set: 0.28\n"
          ]
        }
      ]
    },
    {
      "cell_type": "markdown",
      "source": [
        "# **Preguntas & Respuestas del Ejercicio**"
      ],
      "metadata": {
        "id": "V2zuAp1GmwMl"
      }
    },
    {
      "cell_type": "markdown",
      "source": [
        "1.¿Cuál de KNN o regresión lineal pareció un mejor modelo cuando no usaste la división entrenar probar?\n",
        "\n",
        "R: Regresion lineal mostro un mejor nivel de prediccion vs KNN\n",
        "\n",
        "2.¿Cuál de KNN o regresión lineal pareció un mejor modelo cuando usaste la \n",
        "división entrenar probar?\n",
        "\n",
        "R: Regresion lineal, siguio mostrando un mejor rendimiento\n",
        "\n",
        "3.¿Hubo alguna ventaja en la regresión lineal en términos de la cantidad de código que tenías que escribir?\n",
        "\n",
        "R: claramente es un codigo más resumido que KNN\n",
        "\n",
        "4.¿Hay alguna forma de mostrarle a alguien cuál de los dos modelos fue más efectivo?\n",
        "\n",
        "R: siempre esta la posibilidad de graficar ambos modelos y comparar cual genera más ruido o residuo, asi como tambien medir los minimos cuadrados de cada modelo.\n",
        "\n",
        "5¿Crees que podrías haber mejorado KNN para mejorar la eficacia del modelo?\n",
        "\n",
        "R: intente modificar las proporciones de test y entrenamiento, asi como transformar variables discrecionales en continuas, pero no obtuve una mejora sustancial."
      ],
      "metadata": {
        "id": "V8jhtR3ym1qt"
      }
    }
  ]
}