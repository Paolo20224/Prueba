{
  "nbformat": 4,
  "nbformat_minor": 0,
  "metadata": {
    "colab": {
      "provenance": [],
      "authorship_tag": "ABX9TyP3djd+/q/aBskz0PwzOClG",
      "include_colab_link": true
    },
    "kernelspec": {
      "name": "python3",
      "display_name": "Python 3"
    },
    "language_info": {
      "name": "python"
    }
  },
  "cells": [
    {
      "cell_type": "markdown",
      "metadata": {
        "id": "view-in-github",
        "colab_type": "text"
      },
      "source": [
        "<a href=\"https://colab.research.google.com/github/Paolo20224/Prueba/blob/main/M%C3%A9tricas_de_regresi%C3%B3n.ipynb\" target=\"_parent\"><img src=\"https://colab.research.google.com/assets/colab-badge.svg\" alt=\"Open In Colab\"/></a>"
      ]
    },
    {
      "cell_type": "code",
      "execution_count": null,
      "metadata": {
        "id": "muWanaGYuz5X"
      },
      "outputs": [],
      "source": [
        "#Como parte inicial, descargamos la informacion y la cargamos en nuestro cuader en Colab\n",
        "import pandas as pd\n",
        "filename = \"/content/pokemon.csv\"\n",
        "df = pd.read_csv(filename)"
      ]
    }
  ]
}