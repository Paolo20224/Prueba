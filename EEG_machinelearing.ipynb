{
  "nbformat": 4,
  "nbformat_minor": 0,
  "metadata": {
    "colab": {
      "provenance": [],
      "authorship_tag": "ABX9TyNPGI/VmSusHPCNwlYvis3k",
      "include_colab_link": true
    },
    "kernelspec": {
      "name": "python3",
      "display_name": "Python 3"
    },
    "language_info": {
      "name": "python"
    }
  },
  "cells": [
    {
      "cell_type": "markdown",
      "metadata": {
        "id": "view-in-github",
        "colab_type": "text"
      },
      "source": [
        "<a href=\"https://colab.research.google.com/github/Paolo20224/Prueba/blob/main/EEG_machinelearing.ipynb\" target=\"_parent\"><img src=\"https://colab.research.google.com/assets/colab-badge.svg\" alt=\"Open In Colab\"/></a>"
      ]
    },
    {
      "cell_type": "code",
      "execution_count": 16,
      "metadata": {
        "id": "P_L1RXlZFiYS"
      },
      "outputs": [],
      "source": [
        "#Como parte inicial, descargamos la informacion y la cargamos en nuestro cuader en Colab\n",
        "import pandas as pd\n",
        "filename = \"/content/EEG.machinelearing_data_BRMH.csv\"\n",
        "df = pd.read_csv(filename)"
      ]
    },
    {
      "cell_type": "markdown",
      "source": [
        "1.Analisis y Depuracion de Datos"
      ],
      "metadata": {
        "id": "jrFHhgENF2dn"
      }
    },
    {
      "cell_type": "code",
      "source": [
        "# A continuacion revisaremos la categoria de cada dato, asi como tambien su integridad (verificacion de nulos)\n",
        "df.info()"
      ],
      "metadata": {
        "colab": {
          "base_uri": "https://localhost:8080/"
        },
        "id": "NLvdWXiyF2-P",
        "outputId": "5385fb7c-e822-41e9-f4ee-62df383fd4c4"
      },
      "execution_count": 17,
      "outputs": [
        {
          "output_type": "stream",
          "name": "stdout",
          "text": [
            "<class 'pandas.core.frame.DataFrame'>\n",
            "RangeIndex: 945 entries, 0 to 944\n",
            "Columns: 1149 entries, no. to COH.F.gamma.r.O1.s.O2\n",
            "dtypes: float64(1144), int64(1), object(4)\n",
            "memory usage: 8.3+ MB\n"
          ]
        }
      ]
    },
    {
      "cell_type": "code",
      "source": [
        "#A continuacion revisaremos el archivo en excel para validar que elementos conducentes a error puede contener esta base.\n",
        "df.to_excel(\"EEGML.xlsx\", index=False)"
      ],
      "metadata": {
        "id": "jUdU8DVGF8oB"
      },
      "execution_count": 18,
      "outputs": []
    },
    {
      "cell_type": "code",
      "source": [
        "df2=df\n",
        "df2=df2.dropna(subset=[\"education\"])\n",
        "df2=df2.dropna(subset=[\"IQ\"])"
      ],
      "metadata": {
        "id": "Gwt1eVFofdQy"
      },
      "execution_count": 19,
      "outputs": []
    },
    {
      "cell_type": "markdown",
      "source": [
        "1. Creacion y Optimizacion de Modelo Predictivo"
      ],
      "metadata": {
        "id": "rmF3xOm_eUwj"
      }
    },
    {
      "cell_type": "code",
      "source": [
        "\n",
        "import pandas as pd\n",
        "import numpy as np\n",
        "import matplotlib.pyplot as plt\n",
        "from matplotlib.colors import ListedColormap\n",
        "import matplotlib.patches as mpatches\n",
        "import seaborn as sb\n",
        "\n",
        "%matplotlib inline\n",
        "plt.rcParams['figure.figsize'] = (16, 9)\n",
        "plt.style.use('ggplot')\n",
        "\n",
        "from sklearn.model_selection import train_test_split\n",
        "from sklearn.preprocessing import MinMaxScaler\n",
        "from sklearn.neighbors import KNeighborsClassifier\n",
        "from sklearn.metrics import classification_report\n",
        "from sklearn.metrics import confusion_matrix"
      ],
      "metadata": {
        "id": "b0c0AefseWwD"
      },
      "execution_count": 20,
      "outputs": []
    },
    {
      "cell_type": "markdown",
      "source": [
        "Preparamos el dataset"
      ],
      "metadata": {
        "id": "LesN1yj2ehqe"
      }
    },
    {
      "cell_type": "code",
      "source": [
        "X=df2.drop(columns=['main.disorder','sex','eeg.date','specific.disorder','Unnamed: 122','no.'])\n",
        "y=df2['main.disorder'].values\n",
        "\n",
        "X_train, X_test, y_train, y_test = train_test_split(X, y,test_size=0.3, random_state=123)\n",
        "scaler = MinMaxScaler()\n",
        "X_train = scaler.fit_transform(X_train)\n",
        "X_test = scaler.transform(X_test)"
      ],
      "metadata": {
        "id": "O0Fsq8iMeiOV"
      },
      "execution_count": 21,
      "outputs": []
    },
    {
      "cell_type": "markdown",
      "source": [
        "Creamos el Modelo"
      ],
      "metadata": {
        "id": "-M3TwFd2fO9R"
      }
    },
    {
      "cell_type": "code",
      "source": [
        "#Realizamos iteraciones para \"N° de vecinos\" y nos quedamos con el mejor equilibrio para el nivel de precision de test y entrenamiento.\n",
        "\n",
        "n_neighbors = 90\n",
        "\n",
        "knn = KNeighborsClassifier(n_neighbors)\n",
        "knn.fit(X_train,y_train)\n",
        "print('Accuracy of K-NN classifier on training set: {:.2f}'\n",
        "     .format(knn.score(X_train, y_train)))\n",
        "print('Accuracy of K-NN classifier on test set: {:.2f}'\n",
        "     .format(knn.score(X_test, y_test)))"
      ],
      "metadata": {
        "colab": {
          "base_uri": "https://localhost:8080/"
        },
        "id": "Wwa3cUGufPxP",
        "outputId": "8f349564-1ef7-4731-b4bd-e27b5ba8a32b"
      },
      "execution_count": 22,
      "outputs": [
        {
          "output_type": "stream",
          "name": "stdout",
          "text": [
            "Accuracy of K-NN classifier on training set: 0.30\n",
            "Accuracy of K-NN classifier on test set: 0.26\n"
          ]
        }
      ]
    },
    {
      "cell_type": "markdown",
      "source": [
        "Resultados obtenidos"
      ],
      "metadata": {
        "id": "L9Uxz9aQlASv"
      }
    },
    {
      "cell_type": "code",
      "source": [
        "pred = knn.predict(X_test)\n",
        "print(confusion_matrix(y_test, pred))\n",
        "print(classification_report(y_test, pred))"
      ],
      "metadata": {
        "colab": {
          "base_uri": "https://localhost:8080/"
        },
        "id": "3Xw_WJ23lBGR",
        "outputId": "350a6c20-17a9-4103-b449-388e96f4274a"
      },
      "execution_count": 23,
      "outputs": [
        {
          "output_type": "stream",
          "name": "stdout",
          "text": [
            "[[11  0  0 42  0  0  0]\n",
            " [ 3  0  0 32  0  0  0]\n",
            " [ 2  0  0 24  0  0  0]\n",
            " [ 7  0  0 62  0  0  0]\n",
            " [ 0  0  0 14  0  0  0]\n",
            " [ 2  0  0 37  0  0  0]\n",
            " [ 4  0  0 36  0  0  0]]\n",
            "                                    precision    recall  f1-score   support\n",
            "\n",
            "                Addictive disorder       0.38      0.21      0.27        53\n",
            "                  Anxiety disorder       0.00      0.00      0.00        35\n",
            "                   Healthy control       0.00      0.00      0.00        26\n",
            "                     Mood disorder       0.25      0.90      0.39        69\n",
            "     Obsessive compulsive disorder       0.00      0.00      0.00        14\n",
            "                     Schizophrenia       0.00      0.00      0.00        39\n",
            "Trauma and stress related disorder       0.00      0.00      0.00        40\n",
            "\n",
            "                          accuracy                           0.26       276\n",
            "                         macro avg       0.09      0.16      0.09       276\n",
            "                      weighted avg       0.14      0.26      0.15       276\n",
            "\n"
          ]
        },
        {
          "output_type": "stream",
          "name": "stderr",
          "text": [
            "/usr/local/lib/python3.7/dist-packages/sklearn/metrics/_classification.py:1318: UndefinedMetricWarning: Precision and F-score are ill-defined and being set to 0.0 in labels with no predicted samples. Use `zero_division` parameter to control this behavior.\n",
            "  _warn_prf(average, modifier, msg_start, len(result))\n",
            "/usr/local/lib/python3.7/dist-packages/sklearn/metrics/_classification.py:1318: UndefinedMetricWarning: Precision and F-score are ill-defined and being set to 0.0 in labels with no predicted samples. Use `zero_division` parameter to control this behavior.\n",
            "  _warn_prf(average, modifier, msg_start, len(result))\n",
            "/usr/local/lib/python3.7/dist-packages/sklearn/metrics/_classification.py:1318: UndefinedMetricWarning: Precision and F-score are ill-defined and being set to 0.0 in labels with no predicted samples. Use `zero_division` parameter to control this behavior.\n",
            "  _warn_prf(average, modifier, msg_start, len(result))\n"
          ]
        }
      ]
    },
    {
      "cell_type": "markdown",
      "source": [
        "Arbol de Decision"
      ],
      "metadata": {
        "id": "Y32886WglFoW"
      }
    },
    {
      "cell_type": "code",
      "source": [
        "from sklearn.datasets import load_iris\n",
        "from sklearn.tree import DecisionTreeClassifier\n",
        "import pandas as pd\n",
        "from sklearn import tree\n",
        "import matplotlib.pyplot as plt"
      ],
      "metadata": {
        "id": "bY6TANWrlHUy"
      },
      "execution_count": 24,
      "outputs": []
    },
    {
      "cell_type": "code",
      "source": [
        "X=df2.drop(columns=['main.disorder','sex','eeg.date','specific.disorder','Unnamed: 122']).values\n",
        "y=df2['main.disorder'].values\n",
        "\n",
        "X_train, X_test, y_train, y_test = train_test_split(X, y,test_size=0.3, random_state=123)\n",
        "\n",
        "tree_clf = DecisionTreeClassifier(max_depth=700)\n",
        "tree_clf.fit(X_train, y_train)\n",
        "# Visualizando árbol de decisión\n",
        "# Nueva instancia\n",
        "# CALCULAMOS LAS Probabilidades por cada clase\n",
        "print(tree_clf.predict_proba(X_test))\n",
        "# Clase predicha\n",
        "pred=tree_clf.predict(X_test)\n",
        "print(\"Esta instancia pertenece a la clase\",tree_clf.predict(X_test))"
      ],
      "metadata": {
        "colab": {
          "base_uri": "https://localhost:8080/"
        },
        "id": "BnT9d7pPlKc0",
        "outputId": "4d5b3e5b-d486-4330-896c-0d133bddce22"
      },
      "execution_count": 25,
      "outputs": [
        {
          "output_type": "stream",
          "name": "stdout",
          "text": [
            "[[0. 0. 0. ... 0. 0. 0.]\n",
            " [0. 0. 0. ... 0. 0. 0.]\n",
            " [1. 0. 0. ... 0. 0. 0.]\n",
            " ...\n",
            " [0. 1. 0. ... 0. 0. 0.]\n",
            " [1. 0. 0. ... 0. 0. 0.]\n",
            " [1. 0. 0. ... 0. 0. 0.]]\n",
            "Esta instancia pertenece a la clase ['Mood disorder' 'Mood disorder' 'Addictive disorder' 'Anxiety disorder'\n",
            " 'Healthy control' 'Healthy control' 'Anxiety disorder' 'Healthy control'\n",
            " 'Mood disorder' 'Anxiety disorder' 'Trauma and stress related disorder'\n",
            " 'Mood disorder' 'Healthy control' 'Mood disorder'\n",
            " 'Trauma and stress related disorder' 'Mood disorder'\n",
            " 'Obsessive compulsive disorder' 'Anxiety disorder' 'Mood disorder'\n",
            " 'Mood disorder' 'Mood disorder' 'Healthy control' 'Anxiety disorder'\n",
            " 'Addictive disorder' 'Anxiety disorder' 'Mood disorder' 'Mood disorder'\n",
            " 'Anxiety disorder' 'Anxiety disorder' 'Healthy control'\n",
            " 'Addictive disorder' 'Schizophrenia' 'Mood disorder' 'Mood disorder'\n",
            " 'Addictive disorder' 'Schizophrenia' 'Mood disorder' 'Mood disorder'\n",
            " 'Trauma and stress related disorder' 'Mood disorder' 'Mood disorder'\n",
            " 'Trauma and stress related disorder' 'Addictive disorder'\n",
            " 'Healthy control' 'Schizophrenia' 'Mood disorder' 'Healthy control'\n",
            " 'Addictive disorder' 'Healthy control' 'Addictive disorder'\n",
            " 'Mood disorder' 'Mood disorder' 'Addictive disorder' 'Mood disorder'\n",
            " 'Mood disorder' 'Addictive disorder' 'Anxiety disorder' 'Healthy control'\n",
            " 'Healthy control' 'Anxiety disorder' 'Schizophrenia' 'Addictive disorder'\n",
            " 'Mood disorder' 'Trauma and stress related disorder' 'Mood disorder'\n",
            " 'Mood disorder' 'Schizophrenia' 'Mood disorder' 'Schizophrenia'\n",
            " 'Addictive disorder' 'Mood disorder' 'Trauma and stress related disorder'\n",
            " 'Mood disorder' 'Mood disorder' 'Mood disorder' 'Addictive disorder'\n",
            " 'Addictive disorder' 'Mood disorder' 'Anxiety disorder'\n",
            " 'Trauma and stress related disorder' 'Addictive disorder'\n",
            " 'Addictive disorder' 'Addictive disorder' 'Schizophrenia'\n",
            " 'Anxiety disorder' 'Anxiety disorder' 'Schizophrenia' 'Schizophrenia'\n",
            " 'Mood disorder' 'Addictive disorder' 'Healthy control'\n",
            " 'Obsessive compulsive disorder' 'Addictive disorder' 'Mood disorder'\n",
            " 'Schizophrenia' 'Anxiety disorder' 'Healthy control' 'Addictive disorder'\n",
            " 'Healthy control' 'Addictive disorder' 'Schizophrenia' 'Anxiety disorder'\n",
            " 'Addictive disorder' 'Mood disorder' 'Mood disorder' 'Anxiety disorder'\n",
            " 'Mood disorder' 'Addictive disorder' 'Addictive disorder' 'Schizophrenia'\n",
            " 'Mood disorder' 'Trauma and stress related disorder' 'Healthy control'\n",
            " 'Mood disorder' 'Anxiety disorder' 'Mood disorder'\n",
            " 'Obsessive compulsive disorder' 'Addictive disorder' 'Healthy control'\n",
            " 'Mood disorder' 'Addictive disorder' 'Trauma and stress related disorder'\n",
            " 'Healthy control' 'Mood disorder' 'Healthy control' 'Mood disorder'\n",
            " 'Mood disorder' 'Trauma and stress related disorder' 'Mood disorder'\n",
            " 'Trauma and stress related disorder' 'Trauma and stress related disorder'\n",
            " 'Schizophrenia' 'Addictive disorder' 'Mood disorder' 'Mood disorder'\n",
            " 'Mood disorder' 'Schizophrenia' 'Anxiety disorder' 'Mood disorder'\n",
            " 'Healthy control' 'Anxiety disorder' 'Healthy control'\n",
            " 'Addictive disorder' 'Schizophrenia' 'Healthy control' 'Mood disorder'\n",
            " 'Trauma and stress related disorder' 'Obsessive compulsive disorder'\n",
            " 'Mood disorder' 'Addictive disorder' 'Schizophrenia' 'Mood disorder'\n",
            " 'Mood disorder' 'Anxiety disorder' 'Mood disorder' 'Anxiety disorder'\n",
            " 'Addictive disorder' 'Mood disorder' 'Mood disorder' 'Mood disorder'\n",
            " 'Addictive disorder' 'Schizophrenia' 'Anxiety disorder'\n",
            " 'Anxiety disorder' 'Mood disorder' 'Mood disorder' 'Schizophrenia'\n",
            " 'Schizophrenia' 'Mood disorder' 'Trauma and stress related disorder'\n",
            " 'Healthy control' 'Mood disorder' 'Schizophrenia' 'Mood disorder'\n",
            " 'Anxiety disorder' 'Mood disorder' 'Mood disorder' 'Addictive disorder'\n",
            " 'Addictive disorder' 'Addictive disorder' 'Schizophrenia'\n",
            " 'Addictive disorder' 'Anxiety disorder' 'Addictive disorder'\n",
            " 'Mood disorder' 'Mood disorder' 'Anxiety disorder' 'Addictive disorder'\n",
            " 'Schizophrenia' 'Addictive disorder' 'Trauma and stress related disorder'\n",
            " 'Mood disorder' 'Mood disorder' 'Trauma and stress related disorder'\n",
            " 'Mood disorder' 'Schizophrenia' 'Mood disorder' 'Mood disorder'\n",
            " 'Mood disorder' 'Schizophrenia' 'Schizophrenia' 'Schizophrenia'\n",
            " 'Mood disorder' 'Mood disorder' 'Mood disorder' 'Mood disorder'\n",
            " 'Healthy control' 'Schizophrenia' 'Obsessive compulsive disorder'\n",
            " 'Mood disorder' 'Addictive disorder' 'Addictive disorder' 'Mood disorder'\n",
            " 'Healthy control' 'Obsessive compulsive disorder' 'Mood disorder'\n",
            " 'Addictive disorder' 'Mood disorder' 'Mood disorder' 'Mood disorder'\n",
            " 'Addictive disorder' 'Mood disorder' 'Addictive disorder' 'Mood disorder'\n",
            " 'Addictive disorder' 'Healthy control' 'Anxiety disorder'\n",
            " 'Anxiety disorder' 'Addictive disorder' 'Mood disorder' 'Mood disorder'\n",
            " 'Mood disorder' 'Mood disorder' 'Anxiety disorder' 'Mood disorder'\n",
            " 'Healthy control' 'Schizophrenia' 'Mood disorder'\n",
            " 'Trauma and stress related disorder' 'Schizophrenia' 'Mood disorder'\n",
            " 'Schizophrenia' 'Healthy control' 'Mood disorder' 'Schizophrenia'\n",
            " 'Addictive disorder' 'Mood disorder' 'Addictive disorder' 'Mood disorder'\n",
            " 'Anxiety disorder' 'Trauma and stress related disorder'\n",
            " 'Anxiety disorder' 'Mood disorder' 'Healthy control' 'Anxiety disorder'\n",
            " 'Addictive disorder' 'Mood disorder' 'Trauma and stress related disorder'\n",
            " 'Trauma and stress related disorder' 'Addictive disorder' 'Mood disorder'\n",
            " 'Anxiety disorder' 'Anxiety disorder' 'Healthy control' 'Mood disorder'\n",
            " 'Mood disorder' 'Obsessive compulsive disorder' 'Healthy control'\n",
            " 'Addictive disorder' 'Healthy control' 'Mood disorder'\n",
            " 'Addictive disorder' 'Mood disorder' 'Anxiety disorder'\n",
            " 'Addictive disorder' 'Addictive disorder']\n"
          ]
        }
      ]
    },
    {
      "cell_type": "code",
      "source": [
        "pred = tree_clf.predict(X_test)\n",
        "print(confusion_matrix(y_test, pred))\n",
        "print(classification_report(y_test, pred))"
      ],
      "metadata": {
        "colab": {
          "base_uri": "https://localhost:8080/"
        },
        "id": "pusjX0RCl_nF",
        "outputId": "4e8ac688-0f1f-4655-9462-44574bede791"
      },
      "execution_count": 26,
      "outputs": [
        {
          "output_type": "stream",
          "name": "stdout",
          "text": [
            "[[33  2  5  7  0  3  3]\n",
            " [ 0  7  0 19  4  4  1]\n",
            " [ 0  0 26  0  0  0  0]\n",
            " [ 6 14  0 39  0  6  4]\n",
            " [ 0  2  0  6  3  2  1]\n",
            " [ 4  8  0 14  0 10  3]\n",
            " [ 9  2  0 15  0  6  8]]\n",
            "                                    precision    recall  f1-score   support\n",
            "\n",
            "                Addictive disorder       0.63      0.62      0.63        53\n",
            "                  Anxiety disorder       0.20      0.20      0.20        35\n",
            "                   Healthy control       0.84      1.00      0.91        26\n",
            "                     Mood disorder       0.39      0.57      0.46        69\n",
            "     Obsessive compulsive disorder       0.43      0.21      0.29        14\n",
            "                     Schizophrenia       0.32      0.26      0.29        39\n",
            "Trauma and stress related disorder       0.40      0.20      0.27        40\n",
            "\n",
            "                          accuracy                           0.46       276\n",
            "                         macro avg       0.46      0.44      0.43       276\n",
            "                      weighted avg       0.45      0.46      0.44       276\n",
            "\n"
          ]
        }
      ]
    },
    {
      "cell_type": "markdown",
      "source": [
        "Random Forests"
      ],
      "metadata": {
        "id": "3Gw2tnmym6tq"
      }
    },
    {
      "cell_type": "code",
      "source": [
        "from sklearn.ensemble import RandomForestClassifier\n",
        "\n",
        "rndf_clf = RandomForestClassifier(n_estimators=100)\n",
        "rndf_clf.fit(X_train, y_train)\n",
        "y_pred = rndf_clf.predict(X_test)\n",
        "\n",
        "pred = rndf_clf.predict(X_test)\n",
        "print(confusion_matrix(y_test, pred))\n",
        "print(classification_report(y_test, pred))\n",
        "\n",
        "rndf_clf.score(X_test, y_test)"
      ],
      "metadata": {
        "id": "rZx-wJ7zm8xq",
        "outputId": "43d17d10-6fbe-4746-f8e3-b01d72113cdc",
        "colab": {
          "base_uri": "https://localhost:8080/"
        }
      },
      "execution_count": 27,
      "outputs": [
        {
          "output_type": "stream",
          "name": "stdout",
          "text": [
            "[[23  0  1 29  0  0  0]\n",
            " [ 5  0  0 28  0  1  1]\n",
            " [ 4  1  4 17  0  0  0]\n",
            " [ 9  1  2 57  0  0  0]\n",
            " [ 0  1  0 13  0  0  0]\n",
            " [ 2  0  1 34  1  1  0]\n",
            " [10  0  1 29  0  0  0]]\n",
            "                                    precision    recall  f1-score   support\n",
            "\n",
            "                Addictive disorder       0.43      0.43      0.43        53\n",
            "                  Anxiety disorder       0.00      0.00      0.00        35\n",
            "                   Healthy control       0.44      0.15      0.23        26\n",
            "                     Mood disorder       0.28      0.83      0.41        69\n",
            "     Obsessive compulsive disorder       0.00      0.00      0.00        14\n",
            "                     Schizophrenia       0.50      0.03      0.05        39\n",
            "Trauma and stress related disorder       0.00      0.00      0.00        40\n",
            "\n",
            "                          accuracy                           0.31       276\n",
            "                         macro avg       0.24      0.21      0.16       276\n",
            "                      weighted avg       0.26      0.31      0.22       276\n",
            "\n"
          ]
        },
        {
          "output_type": "execute_result",
          "data": {
            "text/plain": [
              "0.3079710144927536"
            ]
          },
          "metadata": {},
          "execution_count": 27
        }
      ]
    },
    {
      "cell_type": "markdown",
      "source": [
        "Regresion Logistica"
      ],
      "metadata": {
        "id": "G4E_SfEmBP3E"
      }
    },
    {
      "cell_type": "code",
      "source": [
        "from sklearn.linear_model import LogisticRegression\n",
        "from sklearn.model_selection import GridSearchCV\n",
        "# Entrenamiento regresión logística\n",
        "log_reg = LogisticRegression()\n",
        "log_reg.fit(X_train, y_train)"
      ],
      "metadata": {
        "id": "1eQBGNatBSAm",
        "outputId": "8bd5fa2f-1118-43b4-b241-62bdefb1cb64",
        "colab": {
          "base_uri": "https://localhost:8080/"
        }
      },
      "execution_count": 28,
      "outputs": [
        {
          "output_type": "stream",
          "name": "stderr",
          "text": [
            "/usr/local/lib/python3.7/dist-packages/sklearn/linear_model/_logistic.py:818: ConvergenceWarning: lbfgs failed to converge (status=1):\n",
            "STOP: TOTAL NO. of ITERATIONS REACHED LIMIT.\n",
            "\n",
            "Increase the number of iterations (max_iter) or scale the data as shown in:\n",
            "    https://scikit-learn.org/stable/modules/preprocessing.html\n",
            "Please also refer to the documentation for alternative solver options:\n",
            "    https://scikit-learn.org/stable/modules/linear_model.html#logistic-regression\n",
            "  extra_warning_msg=_LOGISTIC_SOLVER_CONVERGENCE_MSG,\n"
          ]
        },
        {
          "output_type": "execute_result",
          "data": {
            "text/plain": [
              "LogisticRegression()"
            ]
          },
          "metadata": {},
          "execution_count": 28
        }
      ]
    },
    {
      "cell_type": "code",
      "source": [
        "y_pred = log_reg.predict(X_test)\n",
        "\n",
        "pred = log_reg.predict(X_test)\n",
        "print(confusion_matrix(y_test, pred))\n",
        "print(classification_report(y_test, pred))\n",
        "\n",
        "log_reg.score(X_test, y_test)"
      ],
      "metadata": {
        "id": "QZy68zohBUYi",
        "outputId": "b6a877be-f56d-4abf-fd48-57f43ab43aef",
        "colab": {
          "base_uri": "https://localhost:8080/"
        }
      },
      "execution_count": 29,
      "outputs": [
        {
          "output_type": "stream",
          "name": "stdout",
          "text": [
            "[[16  2  8 16  1  2  8]\n",
            " [ 6  2  2 19  1  2  3]\n",
            " [ 6  1  7  5  5  0  2]\n",
            " [11  4  6 26  4  9  9]\n",
            " [ 4  3  0  5  1  1  0]\n",
            " [ 4  3  0 19  1  7  5]\n",
            " [ 7  2  3 17  1  6  4]]\n",
            "                                    precision    recall  f1-score   support\n",
            "\n",
            "                Addictive disorder       0.30      0.30      0.30        53\n",
            "                  Anxiety disorder       0.12      0.06      0.08        35\n",
            "                   Healthy control       0.27      0.27      0.27        26\n",
            "                     Mood disorder       0.24      0.38      0.30        69\n",
            "     Obsessive compulsive disorder       0.07      0.07      0.07        14\n",
            "                     Schizophrenia       0.26      0.18      0.21        39\n",
            "Trauma and stress related disorder       0.13      0.10      0.11        40\n",
            "\n",
            "                          accuracy                           0.23       276\n",
            "                         macro avg       0.20      0.19      0.19       276\n",
            "                      weighted avg       0.22      0.23      0.22       276\n",
            "\n"
          ]
        },
        {
          "output_type": "execute_result",
          "data": {
            "text/plain": [
              "0.22826086956521738"
            ]
          },
          "metadata": {},
          "execution_count": 29
        }
      ]
    }
  ]
}