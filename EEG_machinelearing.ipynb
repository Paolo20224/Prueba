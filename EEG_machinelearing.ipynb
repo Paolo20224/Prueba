{
  "nbformat": 4,
  "nbformat_minor": 0,
  "metadata": {
    "colab": {
      "provenance": [],
      "authorship_tag": "ABX9TyNZqkDPWBqiJeufaiYi8YAs",
      "include_colab_link": true
    },
    "kernelspec": {
      "name": "python3",
      "display_name": "Python 3"
    },
    "language_info": {
      "name": "python"
    }
  },
  "cells": [
    {
      "cell_type": "markdown",
      "metadata": {
        "id": "view-in-github",
        "colab_type": "text"
      },
      "source": [
        "<a href=\"https://colab.research.google.com/github/Paolo20224/Prueba/blob/main/EEG_machinelearing.ipynb\" target=\"_parent\"><img src=\"https://colab.research.google.com/assets/colab-badge.svg\" alt=\"Open In Colab\"/></a>"
      ]
    },
    {
      "cell_type": "code",
      "execution_count": 34,
      "metadata": {
        "id": "P_L1RXlZFiYS"
      },
      "outputs": [],
      "source": [
        "#Como parte inicial, descargamos la informacion y la cargamos en nuestro cuader en Colab\n",
        "import pandas as pd\n",
        "filename = \"/content/EEG.machinelearing_data_BRMH.csv\"\n",
        "df = pd.read_csv(filename)"
      ]
    },
    {
      "cell_type": "markdown",
      "source": [
        "1.Analisis y Depuracion de Datos"
      ],
      "metadata": {
        "id": "jrFHhgENF2dn"
      }
    },
    {
      "cell_type": "code",
      "source": [
        "# A continuacion revisaremos la categoria de cada dato, asi como tambien su integridad (verificacion de nulos)\n",
        "df.info()"
      ],
      "metadata": {
        "colab": {
          "base_uri": "https://localhost:8080/"
        },
        "id": "NLvdWXiyF2-P",
        "outputId": "7a2aaaee-3284-4803-9701-00d2afd9fc1a"
      },
      "execution_count": 35,
      "outputs": [
        {
          "output_type": "stream",
          "name": "stdout",
          "text": [
            "<class 'pandas.core.frame.DataFrame'>\n",
            "RangeIndex: 945 entries, 0 to 944\n",
            "Columns: 1149 entries, no. to COH.F.gamma.r.O1.s.O2\n",
            "dtypes: float64(1144), int64(1), object(4)\n",
            "memory usage: 8.3+ MB\n"
          ]
        }
      ]
    },
    {
      "cell_type": "code",
      "source": [
        "#A continuacion revisaremos el archivo en excel para validar que elementos conducentes a error puede contener esta base.\n",
        "df.to_excel(\"EEGML.xlsx\", index=False)"
      ],
      "metadata": {
        "id": "jUdU8DVGF8oB"
      },
      "execution_count": 36,
      "outputs": []
    },
    {
      "cell_type": "code",
      "source": [
        "df2=df\n",
        "df2 = df2.dropna(subset=[\"education\"])\n",
        "df2 = df2.dropna(subset=[\"IQ\"])"
      ],
      "metadata": {
        "id": "Gwt1eVFofdQy"
      },
      "execution_count": 42,
      "outputs": []
    },
    {
      "cell_type": "markdown",
      "source": [
        "1. Creacion y Optimizacion de Modelo Predictivo"
      ],
      "metadata": {
        "id": "rmF3xOm_eUwj"
      }
    },
    {
      "cell_type": "code",
      "source": [
        "\n",
        "import pandas as pd\n",
        "import numpy as np\n",
        "import matplotlib.pyplot as plt\n",
        "from matplotlib.colors import ListedColormap\n",
        "import matplotlib.patches as mpatches\n",
        "import seaborn as sb\n",
        "\n",
        "%matplotlib inline\n",
        "plt.rcParams['figure.figsize'] = (16, 9)\n",
        "plt.style.use('ggplot')\n",
        "\n",
        "from sklearn.model_selection import train_test_split\n",
        "from sklearn.preprocessing import MinMaxScaler\n",
        "from sklearn.neighbors import KNeighborsClassifier\n",
        "from sklearn.metrics import classification_report\n",
        "from sklearn.metrics import confusion_matrix"
      ],
      "metadata": {
        "id": "b0c0AefseWwD"
      },
      "execution_count": 43,
      "outputs": []
    },
    {
      "cell_type": "markdown",
      "source": [
        "Preparamos el dataset"
      ],
      "metadata": {
        "id": "LesN1yj2ehqe"
      }
    },
    {
      "cell_type": "code",
      "source": [
        "X=df2.drop(columns=['main.disorder','sex','eeg.date','specific.disorder','Unnamed: 122'])\n",
        "y = df2['main.disorder'].values\n",
        "\n",
        "X_train, X_test, y_train, y_test = train_test_split(X, y,test_size=0.3, random_state=123)\n",
        "scaler = MinMaxScaler()\n",
        "X_train = scaler.fit_transform(X_train)\n",
        "X_test = scaler.transform(X_test)"
      ],
      "metadata": {
        "id": "O0Fsq8iMeiOV"
      },
      "execution_count": 87,
      "outputs": []
    },
    {
      "cell_type": "markdown",
      "source": [
        "Creamos el Modelo"
      ],
      "metadata": {
        "id": "-M3TwFd2fO9R"
      }
    },
    {
      "cell_type": "code",
      "source": [
        "#Realizamos iteraciones para \"N° de vecinos\" y nos quedamos con el mejor equilibrio para el nivel de precision de test y entrenamiento.\n",
        "\n",
        "n_neighbors = 90\n",
        "\n",
        "knn = KNeighborsClassifier(n_neighbors)\n",
        "knn.fit(X_train, y_train)\n",
        "print('Accuracy of K-NN classifier on training set: {:.2f}'\n",
        "     .format(knn.score(X_train, y_train)))\n",
        "print('Accuracy of K-NN classifier on test set: {:.2f}'\n",
        "     .format(knn.score(X_test, y_test)))"
      ],
      "metadata": {
        "colab": {
          "base_uri": "https://localhost:8080/"
        },
        "id": "Wwa3cUGufPxP",
        "outputId": "14be7ba6-dbf9-40e8-c5a4-a61f8a11642d"
      },
      "execution_count": 100,
      "outputs": [
        {
          "output_type": "stream",
          "name": "stdout",
          "text": [
            "Accuracy of K-NN classifier on training set: 0.31\n",
            "Accuracy of K-NN classifier on test set: 0.26\n"
          ]
        }
      ]
    },
    {
      "cell_type": "markdown",
      "source": [
        "Resultados obtenidos"
      ],
      "metadata": {
        "id": "L9Uxz9aQlASv"
      }
    },
    {
      "cell_type": "code",
      "source": [
        "pred = knn.predict(X_test)\n",
        "print(confusion_matrix(y_test, pred))\n",
        "print(classification_report(y_test, pred))"
      ],
      "metadata": {
        "colab": {
          "base_uri": "https://localhost:8080/"
        },
        "id": "3Xw_WJ23lBGR",
        "outputId": "45a9b53c-6bbd-44fa-c375-43f42ed3dc9e"
      },
      "execution_count": 101,
      "outputs": [
        {
          "output_type": "stream",
          "name": "stdout",
          "text": [
            "[[11  0  0 42  0  0  0]\n",
            " [ 3  0  0 32  0  0  0]\n",
            " [ 2  0  0 24  0  0  0]\n",
            " [ 7  0  0 62  0  0  0]\n",
            " [ 0  0  0 14  0  0  0]\n",
            " [ 2  0  0 37  0  0  0]\n",
            " [ 4  0  0 36  0  0  0]]\n",
            "                                    precision    recall  f1-score   support\n",
            "\n",
            "                Addictive disorder       0.38      0.21      0.27        53\n",
            "                  Anxiety disorder       0.00      0.00      0.00        35\n",
            "                   Healthy control       0.00      0.00      0.00        26\n",
            "                     Mood disorder       0.25      0.90      0.39        69\n",
            "     Obsessive compulsive disorder       0.00      0.00      0.00        14\n",
            "                     Schizophrenia       0.00      0.00      0.00        39\n",
            "Trauma and stress related disorder       0.00      0.00      0.00        40\n",
            "\n",
            "                          accuracy                           0.26       276\n",
            "                         macro avg       0.09      0.16      0.09       276\n",
            "                      weighted avg       0.14      0.26      0.15       276\n",
            "\n"
          ]
        },
        {
          "output_type": "stream",
          "name": "stderr",
          "text": [
            "/usr/local/lib/python3.7/dist-packages/sklearn/metrics/_classification.py:1318: UndefinedMetricWarning: Precision and F-score are ill-defined and being set to 0.0 in labels with no predicted samples. Use `zero_division` parameter to control this behavior.\n",
            "  _warn_prf(average, modifier, msg_start, len(result))\n",
            "/usr/local/lib/python3.7/dist-packages/sklearn/metrics/_classification.py:1318: UndefinedMetricWarning: Precision and F-score are ill-defined and being set to 0.0 in labels with no predicted samples. Use `zero_division` parameter to control this behavior.\n",
            "  _warn_prf(average, modifier, msg_start, len(result))\n",
            "/usr/local/lib/python3.7/dist-packages/sklearn/metrics/_classification.py:1318: UndefinedMetricWarning: Precision and F-score are ill-defined and being set to 0.0 in labels with no predicted samples. Use `zero_division` parameter to control this behavior.\n",
            "  _warn_prf(average, modifier, msg_start, len(result))\n"
          ]
        }
      ]
    },
    {
      "cell_type": "markdown",
      "source": [
        "Arbol de Decision"
      ],
      "metadata": {
        "id": "Y32886WglFoW"
      }
    },
    {
      "cell_type": "code",
      "source": [
        "from sklearn.datasets import load_iris\n",
        "from sklearn.tree import DecisionTreeClassifier\n",
        "import pandas as pd\n",
        "from sklearn import tree\n",
        "import matplotlib.pyplot as plt"
      ],
      "metadata": {
        "id": "bY6TANWrlHUy"
      },
      "execution_count": 102,
      "outputs": []
    },
    {
      "cell_type": "code",
      "source": [
        "X=df2.drop(columns=['main.disorder','sex','eeg.date','specific.disorder','Unnamed: 122']).values\n",
        "y=df2['main.disorder'].values\n",
        "\n",
        "X_train, X_test, y_train, y_test = train_test_split(X, y,test_size=0.3, random_state=123)\n",
        "\n",
        "tree_clf = DecisionTreeClassifier(max_depth=700)\n",
        "tree_clf.fit(X_train, y_train)\n",
        "# Visualizando árbol de decisión\n",
        "# Nueva instancia\n",
        "# CALCULAMOS LAS Probabilidades por cada clase\n",
        "print(tree_clf.predict_proba(X_test))\n",
        "# Clase predicha\n",
        "pred=tree_clf.predict(X_test)\n",
        "print(\"Esta instancia pertenece a la clase\",tree_clf.predict(X_test))"
      ],
      "metadata": {
        "colab": {
          "base_uri": "https://localhost:8080/"
        },
        "id": "BnT9d7pPlKc0",
        "outputId": "d6711b9f-c8ef-4efc-af5c-a714ebc12848"
      },
      "execution_count": 103,
      "outputs": [
        {
          "output_type": "stream",
          "name": "stdout",
          "text": [
            "[[0. 0. 0. ... 0. 0. 0.]\n",
            " [0. 0. 0. ... 0. 0. 0.]\n",
            " [1. 0. 0. ... 0. 0. 0.]\n",
            " ...\n",
            " [0. 1. 0. ... 0. 0. 0.]\n",
            " [1. 0. 0. ... 0. 0. 0.]\n",
            " [1. 0. 0. ... 0. 0. 0.]]\n",
            "Esta instancia pertenece a la clase ['Mood disorder' 'Mood disorder' 'Addictive disorder' 'Anxiety disorder'\n",
            " 'Healthy control' 'Healthy control' 'Anxiety disorder' 'Healthy control'\n",
            " 'Mood disorder' 'Anxiety disorder' 'Trauma and stress related disorder'\n",
            " 'Mood disorder' 'Healthy control' 'Mood disorder'\n",
            " 'Trauma and stress related disorder' 'Mood disorder'\n",
            " 'Obsessive compulsive disorder' 'Mood disorder' 'Mood disorder'\n",
            " 'Mood disorder' 'Mood disorder' 'Healthy control' 'Anxiety disorder'\n",
            " 'Addictive disorder' 'Anxiety disorder' 'Mood disorder' 'Mood disorder'\n",
            " 'Anxiety disorder' 'Trauma and stress related disorder' 'Healthy control'\n",
            " 'Addictive disorder' 'Schizophrenia' 'Mood disorder' 'Mood disorder'\n",
            " 'Addictive disorder' 'Trauma and stress related disorder' 'Mood disorder'\n",
            " 'Mood disorder' 'Trauma and stress related disorder' 'Mood disorder'\n",
            " 'Mood disorder' 'Obsessive compulsive disorder' 'Addictive disorder'\n",
            " 'Healthy control' 'Schizophrenia' 'Mood disorder' 'Healthy control'\n",
            " 'Addictive disorder' 'Healthy control' 'Addictive disorder'\n",
            " 'Trauma and stress related disorder' 'Mood disorder' 'Addictive disorder'\n",
            " 'Mood disorder' 'Mood disorder' 'Addictive disorder' 'Mood disorder'\n",
            " 'Healthy control' 'Healthy control' 'Anxiety disorder' 'Schizophrenia'\n",
            " 'Addictive disorder' 'Mood disorder' 'Trauma and stress related disorder'\n",
            " 'Mood disorder' 'Mood disorder' 'Mood disorder' 'Mood disorder'\n",
            " 'Schizophrenia' 'Addictive disorder' 'Trauma and stress related disorder'\n",
            " 'Trauma and stress related disorder' 'Mood disorder' 'Mood disorder'\n",
            " 'Mood disorder' 'Addictive disorder' 'Addictive disorder'\n",
            " 'Addictive disorder' 'Mood disorder' 'Trauma and stress related disorder'\n",
            " 'Addictive disorder' 'Anxiety disorder' 'Addictive disorder'\n",
            " 'Schizophrenia' 'Mood disorder' 'Obsessive compulsive disorder'\n",
            " 'Schizophrenia' 'Schizophrenia' 'Mood disorder' 'Addictive disorder'\n",
            " 'Healthy control' 'Addictive disorder' 'Addictive disorder'\n",
            " 'Mood disorder' 'Schizophrenia' 'Anxiety disorder' 'Healthy control'\n",
            " 'Schizophrenia' 'Healthy control' 'Addictive disorder' 'Schizophrenia'\n",
            " 'Anxiety disorder' 'Schizophrenia' 'Mood disorder' 'Mood disorder'\n",
            " 'Anxiety disorder' 'Mood disorder' 'Addictive disorder' 'Mood disorder'\n",
            " 'Anxiety disorder' 'Mood disorder' 'Trauma and stress related disorder'\n",
            " 'Healthy control' 'Mood disorder' 'Addictive disorder' 'Mood disorder'\n",
            " 'Obsessive compulsive disorder' 'Addictive disorder' 'Addictive disorder'\n",
            " 'Mood disorder' 'Addictive disorder' 'Trauma and stress related disorder'\n",
            " 'Healthy control' 'Schizophrenia' 'Healthy control'\n",
            " 'Trauma and stress related disorder' 'Mood disorder' 'Mood disorder'\n",
            " 'Mood disorder' 'Trauma and stress related disorder' 'Schizophrenia'\n",
            " 'Schizophrenia' 'Addictive disorder' 'Mood disorder' 'Mood disorder'\n",
            " 'Mood disorder' 'Schizophrenia' 'Schizophrenia' 'Mood disorder'\n",
            " 'Healthy control' 'Anxiety disorder' 'Healthy control'\n",
            " 'Addictive disorder' 'Schizophrenia' 'Healthy control' 'Mood disorder'\n",
            " 'Trauma and stress related disorder' 'Addictive disorder' 'Mood disorder'\n",
            " 'Addictive disorder' 'Obsessive compulsive disorder' 'Mood disorder'\n",
            " 'Anxiety disorder' 'Anxiety disorder' 'Schizophrenia' 'Anxiety disorder'\n",
            " 'Addictive disorder' 'Mood disorder' 'Trauma and stress related disorder'\n",
            " 'Mood disorder' 'Trauma and stress related disorder'\n",
            " 'Trauma and stress related disorder' 'Mood disorder' 'Anxiety disorder'\n",
            " 'Mood disorder' 'Mood disorder' 'Schizophrenia'\n",
            " 'Obsessive compulsive disorder' 'Anxiety disorder' 'Schizophrenia'\n",
            " 'Healthy control' 'Mood disorder' 'Schizophrenia' 'Mood disorder'\n",
            " 'Mood disorder' 'Mood disorder' 'Mood disorder' 'Addictive disorder'\n",
            " 'Addictive disorder' 'Addictive disorder' 'Schizophrenia'\n",
            " 'Addictive disorder' 'Anxiety disorder' 'Addictive disorder'\n",
            " 'Mood disorder' 'Mood disorder' 'Mood disorder' 'Addictive disorder'\n",
            " 'Schizophrenia' 'Addictive disorder' 'Trauma and stress related disorder'\n",
            " 'Mood disorder' 'Mood disorder' 'Trauma and stress related disorder'\n",
            " 'Mood disorder' 'Schizophrenia' 'Mood disorder' 'Mood disorder'\n",
            " 'Mood disorder' 'Schizophrenia' 'Schizophrenia'\n",
            " 'Obsessive compulsive disorder' 'Mood disorder' 'Mood disorder'\n",
            " 'Mood disorder' 'Mood disorder' 'Healthy control' 'Schizophrenia'\n",
            " 'Obsessive compulsive disorder' 'Mood disorder' 'Schizophrenia'\n",
            " 'Trauma and stress related disorder' 'Mood disorder' 'Healthy control'\n",
            " 'Trauma and stress related disorder' 'Mood disorder' 'Addictive disorder'\n",
            " 'Mood disorder' 'Mood disorder' 'Addictive disorder' 'Addictive disorder'\n",
            " 'Mood disorder' 'Addictive disorder' 'Mood disorder' 'Addictive disorder'\n",
            " 'Healthy control' 'Anxiety disorder' 'Anxiety disorder'\n",
            " 'Addictive disorder' 'Mood disorder' 'Mood disorder' 'Mood disorder'\n",
            " 'Mood disorder' 'Anxiety disorder' 'Mood disorder' 'Healthy control'\n",
            " 'Schizophrenia' 'Mood disorder' 'Trauma and stress related disorder'\n",
            " 'Schizophrenia' 'Trauma and stress related disorder' 'Anxiety disorder'\n",
            " 'Healthy control' 'Mood disorder' 'Schizophrenia' 'Addictive disorder'\n",
            " 'Mood disorder' 'Addictive disorder' 'Mood disorder' 'Anxiety disorder'\n",
            " 'Trauma and stress related disorder' 'Schizophrenia' 'Mood disorder'\n",
            " 'Healthy control' 'Anxiety disorder' 'Addictive disorder' 'Mood disorder'\n",
            " 'Trauma and stress related disorder' 'Trauma and stress related disorder'\n",
            " 'Addictive disorder' 'Mood disorder' 'Anxiety disorder'\n",
            " 'Anxiety disorder' 'Healthy control' 'Mood disorder' 'Mood disorder'\n",
            " 'Obsessive compulsive disorder' 'Healthy control' 'Addictive disorder'\n",
            " 'Healthy control' 'Mood disorder' 'Mood disorder' 'Mood disorder'\n",
            " 'Anxiety disorder' 'Addictive disorder' 'Addictive disorder']\n"
          ]
        }
      ]
    },
    {
      "cell_type": "code",
      "source": [
        "pred = tree_clf.predict(X_test)\n",
        "print(confusion_matrix(y_test, pred))\n",
        "print(classification_report(y_test, pred))"
      ],
      "metadata": {
        "colab": {
          "base_uri": "https://localhost:8080/"
        },
        "id": "pusjX0RCl_nF",
        "outputId": "bffd119b-d637-4337-c9a9-169714064bfb"
      },
      "execution_count": 104,
      "outputs": [
        {
          "output_type": "stream",
          "name": "stdout",
          "text": [
            "[[33  3  4  6  0  3  4]\n",
            " [ 2  6  0 19  1  3  4]\n",
            " [ 0  0 26  0  0  0  0]\n",
            " [ 5  8  0 40  1  8  7]\n",
            " [ 1  1  0  6  4  1  1]\n",
            " [ 2  9  0 12  3 10  3]\n",
            " [ 7  1  0 17  0  7  8]]\n",
            "                                    precision    recall  f1-score   support\n",
            "\n",
            "                Addictive disorder       0.66      0.62      0.64        53\n",
            "                  Anxiety disorder       0.21      0.17      0.19        35\n",
            "                   Healthy control       0.87      1.00      0.93        26\n",
            "                     Mood disorder       0.40      0.58      0.47        69\n",
            "     Obsessive compulsive disorder       0.44      0.29      0.35        14\n",
            "                     Schizophrenia       0.31      0.26      0.28        39\n",
            "Trauma and stress related disorder       0.30      0.20      0.24        40\n",
            "\n",
            "                          accuracy                           0.46       276\n",
            "                         macro avg       0.46      0.45      0.44       276\n",
            "                      weighted avg       0.45      0.46      0.45       276\n",
            "\n"
          ]
        }
      ]
    },
    {
      "cell_type": "markdown",
      "source": [
        "Random Forests"
      ],
      "metadata": {
        "id": "3Gw2tnmym6tq"
      }
    },
    {
      "cell_type": "code",
      "source": [
        "from sklearn.ensemble import RandomForestClassifier\n",
        "\n",
        "rndf_clf = RandomForestClassifier(n_estimators=100)\n",
        "rndf_clf.fit(X_train, y_train)\n",
        "y_pred = rndf_clf.predict(X_test)\n",
        "\n",
        "pred = rndf_clf.predict(X_test)\n",
        "print(confusion_matrix(y_test, pred))\n",
        "print(classification_report(y_test, pred))\n",
        "\n",
        "rndf_clf.score(X_test, y_test)"
      ],
      "metadata": {
        "id": "rZx-wJ7zm8xq",
        "outputId": "c7acc2e8-aa6c-42ab-a81c-09ca63ccb4ec",
        "colab": {
          "base_uri": "https://localhost:8080/"
        }
      },
      "execution_count": 105,
      "outputs": [
        {
          "output_type": "stream",
          "name": "stdout",
          "text": [
            "[[26  0  3 22  0  0  2]\n",
            " [ 3  0  0 32  0  0  0]\n",
            " [10  0  6  9  0  0  1]\n",
            " [ 9  0  1 58  0  0  1]\n",
            " [ 1  0  0 13  0  0  0]\n",
            " [ 3  0  0 33  0  2  1]\n",
            " [10  0  0 29  0  0  1]]\n",
            "                                    precision    recall  f1-score   support\n",
            "\n",
            "                Addictive disorder       0.42      0.49      0.45        53\n",
            "                  Anxiety disorder       0.00      0.00      0.00        35\n",
            "                   Healthy control       0.60      0.23      0.33        26\n",
            "                     Mood disorder       0.30      0.84      0.44        69\n",
            "     Obsessive compulsive disorder       0.00      0.00      0.00        14\n",
            "                     Schizophrenia       1.00      0.05      0.10        39\n",
            "Trauma and stress related disorder       0.17      0.03      0.04        40\n",
            "\n",
            "                          accuracy                           0.34       276\n",
            "                         macro avg       0.35      0.23      0.19       276\n",
            "                      weighted avg       0.38      0.34      0.25       276\n",
            "\n"
          ]
        },
        {
          "output_type": "stream",
          "name": "stderr",
          "text": [
            "/usr/local/lib/python3.7/dist-packages/sklearn/metrics/_classification.py:1318: UndefinedMetricWarning: Precision and F-score are ill-defined and being set to 0.0 in labels with no predicted samples. Use `zero_division` parameter to control this behavior.\n",
            "  _warn_prf(average, modifier, msg_start, len(result))\n",
            "/usr/local/lib/python3.7/dist-packages/sklearn/metrics/_classification.py:1318: UndefinedMetricWarning: Precision and F-score are ill-defined and being set to 0.0 in labels with no predicted samples. Use `zero_division` parameter to control this behavior.\n",
            "  _warn_prf(average, modifier, msg_start, len(result))\n",
            "/usr/local/lib/python3.7/dist-packages/sklearn/metrics/_classification.py:1318: UndefinedMetricWarning: Precision and F-score are ill-defined and being set to 0.0 in labels with no predicted samples. Use `zero_division` parameter to control this behavior.\n",
            "  _warn_prf(average, modifier, msg_start, len(result))\n"
          ]
        },
        {
          "output_type": "execute_result",
          "data": {
            "text/plain": [
              "0.33695652173913043"
            ]
          },
          "metadata": {},
          "execution_count": 105
        }
      ]
    }
  ]
}