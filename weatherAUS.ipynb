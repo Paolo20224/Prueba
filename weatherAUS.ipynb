{
  "nbformat": 4,
  "nbformat_minor": 0,
  "metadata": {
    "colab": {
      "name": "weatherAUS.ipynb",
      "provenance": [],
      "authorship_tag": "ABX9TyOFM0DYlhyjjR4ROkHL2voH",
      "include_colab_link": true
    },
    "kernelspec": {
      "name": "python3",
      "display_name": "Python 3"
    },
    "language_info": {
      "name": "python"
    }
  },
  "cells": [
    {
      "cell_type": "markdown",
      "metadata": {
        "id": "view-in-github",
        "colab_type": "text"
      },
      "source": [
        "<a href=\"https://colab.research.google.com/github/Paolo20224/Prueba/blob/main/weatherAUS.ipynb\" target=\"_parent\"><img src=\"https://colab.research.google.com/assets/colab-badge.svg\" alt=\"Open In Colab\"/></a>"
      ]
    },
    {
      "cell_type": "code",
      "execution_count": 1,
      "metadata": {
        "id": "NPcr3oJYhYXH"
      },
      "outputs": [],
      "source": [
        "#Como parte inicial, descargamos la informacion y la cargamos en nuestro cuader en Colab\n",
        "import pandas as pd\n",
        "filename = \"/content/weatherAUS.csv\"\n",
        "df = pd.read_csv(filename)"
      ]
    },
    {
      "cell_type": "markdown",
      "source": [
        "1.Analisis y Depuracion de Datos"
      ],
      "metadata": {
        "id": "TAspF_p1hsDf"
      }
    },
    {
      "cell_type": "code",
      "source": [
        "# A continuacion revisaremos la categoria de cada dato, asi como tambien su integridad (verificacion de nulos)\n",
        "df.info()"
      ],
      "metadata": {
        "colab": {
          "base_uri": "https://localhost:8080/"
        },
        "id": "RuX27WQfhs-I",
        "outputId": "1fa0b0d2-4481-4461-e046-b7d0291bbf32"
      },
      "execution_count": 2,
      "outputs": [
        {
          "output_type": "stream",
          "name": "stdout",
          "text": [
            "<class 'pandas.core.frame.DataFrame'>\n",
            "RangeIndex: 21900 entries, 0 to 21899\n",
            "Data columns (total 23 columns):\n",
            " #   Column         Non-Null Count  Dtype  \n",
            "---  ------         --------------  -----  \n",
            " 0   Date           21900 non-null  object \n",
            " 1   Location       21900 non-null  object \n",
            " 2   MinTemp        21453 non-null  float64\n",
            " 3   MaxTemp        21573 non-null  float64\n",
            " 4   Rainfall       21398 non-null  float64\n",
            " 5   Evaporation    7520 non-null   float64\n",
            " 6   Sunshine       4876 non-null   float64\n",
            " 7   WindGustDir    18216 non-null  object \n",
            " 8   WindGustSpeed  18218 non-null  float64\n",
            " 9   WindDir9am     18919 non-null  object \n",
            " 10  WindDir3pm     20027 non-null  object \n",
            " 11  WindSpeed9am   21189 non-null  float64\n",
            " 12  WindSpeed3pm   20510 non-null  float64\n",
            " 13  Humidity9am    21408 non-null  float64\n",
            " 14  Humidity3pm    20714 non-null  float64\n",
            " 15  Pressure9am    18310 non-null  float64\n",
            " 16  Pressure3pm    18314 non-null  float64\n",
            " 17  Cloud9am       12162 non-null  float64\n",
            " 18  Cloud3pm       11850 non-null  float64\n",
            " 19  Temp9am        21551 non-null  float64\n",
            " 20  Temp3pm        20863 non-null  float64\n",
            " 21  RainToday      21398 non-null  object \n",
            " 22  RainTomorrow   21398 non-null  object \n",
            "dtypes: float64(16), object(7)\n",
            "memory usage: 3.8+ MB\n"
          ]
        }
      ]
    },
    {
      "cell_type": "code",
      "source": [
        "#A continuacion revisaremos el archivo en excel para validar que elementos conducentes a error puede contener esta base.\n",
        "df.to_excel(\"weather.xlsx\", index=False)"
      ],
      "metadata": {
        "id": "xppeMceEh7cJ"
      },
      "execution_count": 3,
      "outputs": []
    }
  ]
}