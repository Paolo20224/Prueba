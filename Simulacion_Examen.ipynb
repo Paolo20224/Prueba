{
  "nbformat": 4,
  "nbformat_minor": 0,
  "metadata": {
    "colab": {
      "name": "Simulacion_Examen.ipynb",
      "provenance": [],
      "authorship_tag": "ABX9TyMQAsx5dbXnvZyMRppx1FnY",
      "include_colab_link": true
    },
    "kernelspec": {
      "name": "python3",
      "display_name": "Python 3"
    },
    "language_info": {
      "name": "python"
    }
  },
  "cells": [
    {
      "cell_type": "markdown",
      "metadata": {
        "id": "view-in-github",
        "colab_type": "text"
      },
      "source": [
        "<a href=\"https://colab.research.google.com/github/Paolo20224/Prueba/blob/main/Simulacion_Examen.ipynb\" target=\"_parent\"><img src=\"https://colab.research.google.com/assets/colab-badge.svg\" alt=\"Open In Colab\"/></a>"
      ]
    },
    {
      "cell_type": "code",
      "execution_count": null,
      "metadata": {
        "id": "x7LNI3lmHvfP"
      },
      "outputs": [],
      "source": [
        ""
      ]
    }
  ]
}